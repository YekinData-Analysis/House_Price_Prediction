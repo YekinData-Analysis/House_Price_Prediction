{
 "cells": [
  {
   "cell_type": "code",
   "execution_count": 1,
   "id": "3c3331b7",
   "metadata": {},
   "outputs": [],
   "source": [
    "import numpy as np\n",
    "import pandas as pd\n",
    "import seaborn as sns\n",
    "import matplotlib.pyplot as plt\n",
    "from  colorama import Fore\n",
    "from collections import Counter\n",
    "\n",
    "#importing The Necessary Library ffor now"
   ]
  },
  {
   "cell_type": "code",
   "execution_count": 2,
   "id": "fb260140",
   "metadata": {},
   "outputs": [
    {
     "name": "stdout",
     "output_type": "stream",
     "text": [
      "<class 'pandas.core.frame.DataFrame'>\n",
      "RangeIndex: 24326 entries, 0 to 24325\n",
      "Data columns (total 8 columns):\n",
      " #   Column         Non-Null Count  Dtype  \n",
      "---  ------         --------------  -----  \n",
      " 0   bedrooms       24326 non-null  float64\n",
      " 1   bathrooms      24326 non-null  float64\n",
      " 2   toilets        24326 non-null  float64\n",
      " 3   parking_space  24326 non-null  float64\n",
      " 4   title          24326 non-null  object \n",
      " 5   town           24326 non-null  object \n",
      " 6   state          24326 non-null  object \n",
      " 7   price          24326 non-null  float64\n",
      "dtypes: float64(5), object(3)\n",
      "memory usage: 1.5+ MB\n"
     ]
    }
   ],
   "source": [
    "df=pd.read_csv(r'C:\\Users\\HP\\Downloads\\archive (32)\\nigeria_houses_data.csv')\n",
    "\n",
    "df.info()\n",
    "\n",
    "#reading The python file"
   ]
  },
  {
   "cell_type": "code",
   "execution_count": 3,
   "id": "c51ab762",
   "metadata": {},
   "outputs": [
    {
     "data": {
      "text/html": [
       "<div>\n",
       "<style scoped>\n",
       "    .dataframe tbody tr th:only-of-type {\n",
       "        vertical-align: middle;\n",
       "    }\n",
       "\n",
       "    .dataframe tbody tr th {\n",
       "        vertical-align: top;\n",
       "    }\n",
       "\n",
       "    .dataframe thead th {\n",
       "        text-align: right;\n",
       "    }\n",
       "</style>\n",
       "<table border=\"1\" class=\"dataframe\">\n",
       "  <thead>\n",
       "    <tr style=\"text-align: right;\">\n",
       "      <th></th>\n",
       "      <th>bedrooms</th>\n",
       "      <th>bathrooms</th>\n",
       "      <th>toilets</th>\n",
       "      <th>parking_space</th>\n",
       "      <th>title</th>\n",
       "      <th>town</th>\n",
       "      <th>state</th>\n",
       "      <th>price</th>\n",
       "    </tr>\n",
       "  </thead>\n",
       "  <tbody>\n",
       "    <tr>\n",
       "      <th>0</th>\n",
       "      <td>6.0</td>\n",
       "      <td>5.0</td>\n",
       "      <td>5.0</td>\n",
       "      <td>4.0</td>\n",
       "      <td>Detached Duplex</td>\n",
       "      <td>Mabushi</td>\n",
       "      <td>Abuja</td>\n",
       "      <td>450000000.0</td>\n",
       "    </tr>\n",
       "    <tr>\n",
       "      <th>1</th>\n",
       "      <td>4.0</td>\n",
       "      <td>5.0</td>\n",
       "      <td>5.0</td>\n",
       "      <td>4.0</td>\n",
       "      <td>Terraced Duplexes</td>\n",
       "      <td>Katampe</td>\n",
       "      <td>Abuja</td>\n",
       "      <td>800000000.0</td>\n",
       "    </tr>\n",
       "    <tr>\n",
       "      <th>2</th>\n",
       "      <td>4.0</td>\n",
       "      <td>5.0</td>\n",
       "      <td>5.0</td>\n",
       "      <td>4.0</td>\n",
       "      <td>Detached Duplex</td>\n",
       "      <td>Lekki</td>\n",
       "      <td>Lagos</td>\n",
       "      <td>120000000.0</td>\n",
       "    </tr>\n",
       "    <tr>\n",
       "      <th>3</th>\n",
       "      <td>4.0</td>\n",
       "      <td>4.0</td>\n",
       "      <td>5.0</td>\n",
       "      <td>6.0</td>\n",
       "      <td>Detached Duplex</td>\n",
       "      <td>Ajah</td>\n",
       "      <td>Lagos</td>\n",
       "      <td>40000000.0</td>\n",
       "    </tr>\n",
       "    <tr>\n",
       "      <th>4</th>\n",
       "      <td>4.0</td>\n",
       "      <td>4.0</td>\n",
       "      <td>5.0</td>\n",
       "      <td>2.0</td>\n",
       "      <td>Semi Detached Duplex</td>\n",
       "      <td>Lekki</td>\n",
       "      <td>Lagos</td>\n",
       "      <td>75000000.0</td>\n",
       "    </tr>\n",
       "  </tbody>\n",
       "</table>\n",
       "</div>"
      ],
      "text/plain": [
       "   bedrooms  bathrooms  toilets  parking_space                 title     town  \\\n",
       "0       6.0        5.0      5.0            4.0       Detached Duplex  Mabushi   \n",
       "1       4.0        5.0      5.0            4.0     Terraced Duplexes  Katampe   \n",
       "2       4.0        5.0      5.0            4.0       Detached Duplex    Lekki   \n",
       "3       4.0        4.0      5.0            6.0       Detached Duplex     Ajah   \n",
       "4       4.0        4.0      5.0            2.0  Semi Detached Duplex    Lekki   \n",
       "\n",
       "   state        price  \n",
       "0  Abuja  450000000.0  \n",
       "1  Abuja  800000000.0  \n",
       "2  Lagos  120000000.0  \n",
       "3  Lagos   40000000.0  \n",
       "4  Lagos   75000000.0  "
      ]
     },
     "execution_count": 3,
     "metadata": {},
     "output_type": "execute_result"
    }
   ],
   "source": [
    "#let view The data\n",
    "\n",
    "\n",
    "df.head()"
   ]
  },
  {
   "cell_type": "code",
   "execution_count": 4,
   "id": "d1c90fe4",
   "metadata": {},
   "outputs": [
    {
     "name": "stdout",
     "output_type": "stream",
     "text": [
      "\u001b[31m The Data set is made up of 24326 rows and 8 columns\n"
     ]
    }
   ],
   "source": [
    "print(Fore.RED,f'The Data set is made up of {df.shape[0]} rows and {df.shape[1]} columns')"
   ]
  },
  {
   "cell_type": "code",
   "execution_count": 5,
   "id": "4ff06f90",
   "metadata": {},
   "outputs": [
    {
     "data": {
      "text/html": [
       "\n",
       "<ul>\n",
       "  <li><strong>Index:</strong> A numerical index of the rows in the dataframe.</li>\n",
       "  <li><strong>Bedrooms:</strong> The number of bedrooms in the property.</li>\n",
       "  <li><strong>Bathrooms:</strong> The number of bathrooms in the property.</li>\n",
       "  <li><strong>Toilets:</strong> The number of toilets in the property.</li>\n",
       "  <li><strong>Parking Space:</strong> The number of parking spaces in the property.</li>\n",
       "  <li><strong>Title:</strong> The title of the property.</li>\n",
       "  <li><strong>Town:</strong> The town where the property is located.</li>\n",
       "  <li><strong>State:</strong> The state where the property is located.</li>\n",
       "  <li><strong>Price:</strong> The price of the property.</li>\n",
       "</ul>\n"
      ],
      "text/plain": [
       "<IPython.core.display.HTML object>"
      ]
     },
     "metadata": {},
     "output_type": "display_data"
    }
   ],
   "source": [
    "#Columns Description matters\n",
    "\n",
    "import sketch \n",
    "\n",
    "df.sketch.ask('Can you give friendly names and single sentneces descriptions of each column?(format output as HTML list)')"
   ]
  },
  {
   "cell_type": "markdown",
   "id": "a5c451cc",
   "metadata": {},
   "source": [
    "*Columns desccription*"
   ]
  },
  {
   "cell_type": "code",
   "execution_count": 6,
   "id": "6f094309",
   "metadata": {},
   "outputs": [
    {
     "name": "stdout",
     "output_type": "stream",
     "text": [
      "\u001b[31m Data Uniqness for each columns bedrooms: 9\n",
      "\u001b[31m Data Uniqness for each columns bathrooms: 9\n",
      "\u001b[31m Data Uniqness for each columns toilets: 9\n",
      "\u001b[31m Data Uniqness for each columns parking_space: 9\n",
      "\u001b[31m Data Uniqness for each columns title: 7\n",
      "\u001b[31m Data Uniqness for each columns town: 189\n",
      "\u001b[31m Data Uniqness for each columns state: 25\n",
      "\u001b[31m Data Uniqness for each columns price: 539\n"
     ]
    }
   ],
   "source": [
    "#Value Uniqueness\n",
    "\n",
    "for i in df.columns:\n",
    "    print(Fore.RED,'Data Uniqness for each columns {}: {}'.format(i,df[i].nunique()))"
   ]
  },
  {
   "cell_type": "markdown",
   "id": "20a50ee7",
   "metadata": {},
   "source": [
    "*We check Out the data Uniqueness of Each Columns in The Data Set*"
   ]
  },
  {
   "cell_type": "code",
   "execution_count": 7,
   "id": "a690bd50",
   "metadata": {},
   "outputs": [
    {
     "data": {
      "text/plain": [
       "bedrooms         0\n",
       "bathrooms        0\n",
       "toilets          0\n",
       "parking_space    0\n",
       "title            0\n",
       "town             0\n",
       "state            0\n",
       "price            0\n",
       "dtype: int64"
      ]
     },
     "execution_count": 7,
     "metadata": {},
     "output_type": "execute_result"
    }
   ],
   "source": [
    "#ket check for missing data\n",
    "\n",
    "df.apply(lambda X: sum(X.isnull()))"
   ]
  },
  {
   "cell_type": "markdown",
   "id": "97e6eee7",
   "metadata": {},
   "source": [
    "*No Missing Data ✅*"
   ]
  },
  {
   "cell_type": "code",
   "execution_count": 8,
   "id": "07f1286d",
   "metadata": {},
   "outputs": [
    {
     "name": "stdout",
     "output_type": "stream",
     "text": [
      "<class 'pandas.core.frame.DataFrame'>\n",
      "RangeIndex: 24326 entries, 0 to 24325\n",
      "Data columns (total 8 columns):\n",
      " #   Column         Non-Null Count  Dtype  \n",
      "---  ------         --------------  -----  \n",
      " 0   bedrooms       24326 non-null  float64\n",
      " 1   bathrooms      24326 non-null  float64\n",
      " 2   toilets        24326 non-null  float64\n",
      " 3   parking_space  24326 non-null  float64\n",
      " 4   title          24326 non-null  object \n",
      " 5   town           24326 non-null  object \n",
      " 6   state          24326 non-null  object \n",
      " 7   price          24326 non-null  float64\n",
      "dtypes: float64(5), object(3)\n",
      "memory usage: 1.5+ MB\n"
     ]
    }
   ],
   "source": [
    "#Let check the data FOrmat\n",
    "\n",
    "df.info()"
   ]
  },
  {
   "cell_type": "markdown",
   "id": "7e9dacc7",
   "metadata": {},
   "source": [
    "*The data FOrmat for each column*"
   ]
  },
  {
   "cell_type": "markdown",
   "id": "c11bba07",
   "metadata": {},
   "source": [
    ">EDA"
   ]
  },
  {
   "cell_type": "code",
   "execution_count": 9,
   "id": "17b2b8c7",
   "metadata": {},
   "outputs": [
    {
     "data": {
      "text/html": [
       "<div>\n",
       "<style scoped>\n",
       "    .dataframe tbody tr th:only-of-type {\n",
       "        vertical-align: middle;\n",
       "    }\n",
       "\n",
       "    .dataframe tbody tr th {\n",
       "        vertical-align: top;\n",
       "    }\n",
       "\n",
       "    .dataframe thead th {\n",
       "        text-align: right;\n",
       "    }\n",
       "</style>\n",
       "<table border=\"1\" class=\"dataframe\">\n",
       "  <thead>\n",
       "    <tr style=\"text-align: right;\">\n",
       "      <th></th>\n",
       "      <th>bedrooms</th>\n",
       "      <th>bathrooms</th>\n",
       "      <th>toilets</th>\n",
       "      <th>parking_space</th>\n",
       "      <th>title</th>\n",
       "      <th>town</th>\n",
       "      <th>state</th>\n",
       "      <th>price</th>\n",
       "    </tr>\n",
       "  </thead>\n",
       "  <tbody>\n",
       "    <tr>\n",
       "      <th>0</th>\n",
       "      <td>6.0</td>\n",
       "      <td>5.0</td>\n",
       "      <td>5.0</td>\n",
       "      <td>4.0</td>\n",
       "      <td>Detached Duplex</td>\n",
       "      <td>Mabushi</td>\n",
       "      <td>Abuja</td>\n",
       "      <td>450000000.0</td>\n",
       "    </tr>\n",
       "    <tr>\n",
       "      <th>1</th>\n",
       "      <td>4.0</td>\n",
       "      <td>5.0</td>\n",
       "      <td>5.0</td>\n",
       "      <td>4.0</td>\n",
       "      <td>Terraced Duplexes</td>\n",
       "      <td>Katampe</td>\n",
       "      <td>Abuja</td>\n",
       "      <td>800000000.0</td>\n",
       "    </tr>\n",
       "    <tr>\n",
       "      <th>2</th>\n",
       "      <td>4.0</td>\n",
       "      <td>5.0</td>\n",
       "      <td>5.0</td>\n",
       "      <td>4.0</td>\n",
       "      <td>Detached Duplex</td>\n",
       "      <td>Lekki</td>\n",
       "      <td>Lagos</td>\n",
       "      <td>120000000.0</td>\n",
       "    </tr>\n",
       "    <tr>\n",
       "      <th>3</th>\n",
       "      <td>4.0</td>\n",
       "      <td>4.0</td>\n",
       "      <td>5.0</td>\n",
       "      <td>6.0</td>\n",
       "      <td>Detached Duplex</td>\n",
       "      <td>Ajah</td>\n",
       "      <td>Lagos</td>\n",
       "      <td>40000000.0</td>\n",
       "    </tr>\n",
       "    <tr>\n",
       "      <th>4</th>\n",
       "      <td>4.0</td>\n",
       "      <td>4.0</td>\n",
       "      <td>5.0</td>\n",
       "      <td>2.0</td>\n",
       "      <td>Semi Detached Duplex</td>\n",
       "      <td>Lekki</td>\n",
       "      <td>Lagos</td>\n",
       "      <td>75000000.0</td>\n",
       "    </tr>\n",
       "  </tbody>\n",
       "</table>\n",
       "</div>"
      ],
      "text/plain": [
       "   bedrooms  bathrooms  toilets  parking_space                 title     town  \\\n",
       "0       6.0        5.0      5.0            4.0       Detached Duplex  Mabushi   \n",
       "1       4.0        5.0      5.0            4.0     Terraced Duplexes  Katampe   \n",
       "2       4.0        5.0      5.0            4.0       Detached Duplex    Lekki   \n",
       "3       4.0        4.0      5.0            6.0       Detached Duplex     Ajah   \n",
       "4       4.0        4.0      5.0            2.0  Semi Detached Duplex    Lekki   \n",
       "\n",
       "   state        price  \n",
       "0  Abuja  450000000.0  \n",
       "1  Abuja  800000000.0  \n",
       "2  Lagos  120000000.0  \n",
       "3  Lagos   40000000.0  \n",
       "4  Lagos   75000000.0  "
      ]
     },
     "execution_count": 9,
     "metadata": {},
     "output_type": "execute_result"
    }
   ],
   "source": [
    "df.head()"
   ]
  },
  {
   "cell_type": "code",
   "execution_count": 10,
   "id": "8776fae0",
   "metadata": {},
   "outputs": [
    {
     "data": {
      "text/plain": [
       "Detached Duplex           13992\n",
       "Terraced Duplexes          3237\n",
       "Semi Detached Duplex       2615\n",
       "Detached Bungalow          2108\n",
       "Block of Flats             1745\n",
       "Semi Detached Bungalow      452\n",
       "Terraced Bungalow           177\n",
       "Name: title, dtype: int64"
      ]
     },
     "execution_count": 10,
     "metadata": {},
     "output_type": "execute_result"
    }
   ],
   "source": [
    "df['title'].value_counts()"
   ]
  },
  {
   "cell_type": "markdown",
   "id": "339c84b8",
   "metadata": {},
   "source": [
    "*We have More Detached Duplex building in Nigeria*"
   ]
  },
  {
   "cell_type": "markdown",
   "id": "a4166c0c",
   "metadata": {},
   "source": [
    "**what a Detached Duplex**\n",
    "\n",
    "*A detached duplex is a type of residential building that consists of two separate housing units, each with its own entrance and amenities, but sharing a common wall. Unlike a semi-detached duplex, a detached duplex is completely independent and does not share any walls with neighboring properties. It typically offers more privacy and space compared to other types of duplexes.*\n",
    "\n",
    "\n",
    "*so it save to say More of Migeria building is Made of Detached Duplex Building*"
   ]
  },
  {
   "cell_type": "code",
   "execution_count": 11,
   "id": "39ce20ea",
   "metadata": {},
   "outputs": [
    {
     "data": {
      "text/html": [
       "<div>\n",
       "<style scoped>\n",
       "    .dataframe tbody tr th:only-of-type {\n",
       "        vertical-align: middle;\n",
       "    }\n",
       "\n",
       "    .dataframe tbody tr th {\n",
       "        vertical-align: top;\n",
       "    }\n",
       "\n",
       "    .dataframe thead th {\n",
       "        text-align: right;\n",
       "    }\n",
       "</style>\n",
       "<table border=\"1\" class=\"dataframe\">\n",
       "  <thead>\n",
       "    <tr style=\"text-align: right;\">\n",
       "      <th></th>\n",
       "      <th>Counting The Building Types in Each State in Nigeria</th>\n",
       "    </tr>\n",
       "    <tr>\n",
       "      <th>state</th>\n",
       "      <th></th>\n",
       "    </tr>\n",
       "  </thead>\n",
       "  <tbody>\n",
       "    <tr>\n",
       "      <th>Lagos</th>\n",
       "      <td>18445</td>\n",
       "    </tr>\n",
       "    <tr>\n",
       "      <th>Abuja</th>\n",
       "      <td>3524</td>\n",
       "    </tr>\n",
       "    <tr>\n",
       "      <th>Ogun</th>\n",
       "      <td>637</td>\n",
       "    </tr>\n",
       "    <tr>\n",
       "      <th>Oyo</th>\n",
       "      <td>477</td>\n",
       "    </tr>\n",
       "    <tr>\n",
       "      <th>Rivers</th>\n",
       "      <td>444</td>\n",
       "    </tr>\n",
       "    <tr>\n",
       "      <th>Imo</th>\n",
       "      <td>246</td>\n",
       "    </tr>\n",
       "    <tr>\n",
       "      <th>Anambara</th>\n",
       "      <td>145</td>\n",
       "    </tr>\n",
       "    <tr>\n",
       "      <th>Enugu</th>\n",
       "      <td>128</td>\n",
       "    </tr>\n",
       "    <tr>\n",
       "      <th>Edo</th>\n",
       "      <td>100</td>\n",
       "    </tr>\n",
       "    <tr>\n",
       "      <th>Delta</th>\n",
       "      <td>63</td>\n",
       "    </tr>\n",
       "    <tr>\n",
       "      <th>Akwa Ibom</th>\n",
       "      <td>25</td>\n",
       "    </tr>\n",
       "    <tr>\n",
       "      <th>Kaduna</th>\n",
       "      <td>23</td>\n",
       "    </tr>\n",
       "    <tr>\n",
       "      <th>Osun</th>\n",
       "      <td>12</td>\n",
       "    </tr>\n",
       "    <tr>\n",
       "      <th>Ekiti</th>\n",
       "      <td>9</td>\n",
       "    </tr>\n",
       "    <tr>\n",
       "      <th>Kwara</th>\n",
       "      <td>9</td>\n",
       "    </tr>\n",
       "    <tr>\n",
       "      <th>Nasarawa</th>\n",
       "      <td>9</td>\n",
       "    </tr>\n",
       "    <tr>\n",
       "      <th>Abia</th>\n",
       "      <td>9</td>\n",
       "    </tr>\n",
       "    <tr>\n",
       "      <th>Kogi</th>\n",
       "      <td>8</td>\n",
       "    </tr>\n",
       "    <tr>\n",
       "      <th>Kano</th>\n",
       "      <td>2</td>\n",
       "    </tr>\n",
       "    <tr>\n",
       "      <th>Katsina</th>\n",
       "      <td>2</td>\n",
       "    </tr>\n",
       "    <tr>\n",
       "      <th>Cross River</th>\n",
       "      <td>2</td>\n",
       "    </tr>\n",
       "    <tr>\n",
       "      <th>Borno</th>\n",
       "      <td>2</td>\n",
       "    </tr>\n",
       "    <tr>\n",
       "      <th>Bayelsa</th>\n",
       "      <td>2</td>\n",
       "    </tr>\n",
       "    <tr>\n",
       "      <th>Plateau</th>\n",
       "      <td>2</td>\n",
       "    </tr>\n",
       "    <tr>\n",
       "      <th>Niger</th>\n",
       "      <td>1</td>\n",
       "    </tr>\n",
       "  </tbody>\n",
       "</table>\n",
       "</div>"
      ],
      "text/plain": [
       "             Counting The Building Types in Each State in Nigeria\n",
       "state                                                            \n",
       "Lagos                                                    18445   \n",
       "Abuja                                                     3524   \n",
       "Ogun                                                       637   \n",
       "Oyo                                                        477   \n",
       "Rivers                                                     444   \n",
       "Imo                                                        246   \n",
       "Anambara                                                   145   \n",
       "Enugu                                                      128   \n",
       "Edo                                                        100   \n",
       "Delta                                                       63   \n",
       "Akwa Ibom                                                   25   \n",
       "Kaduna                                                      23   \n",
       "Osun                                                        12   \n",
       "Ekiti                                                        9   \n",
       "Kwara                                                        9   \n",
       "Nasarawa                                                     9   \n",
       "Abia                                                         9   \n",
       "Kogi                                                         8   \n",
       "Kano                                                         2   \n",
       "Katsina                                                      2   \n",
       "Cross River                                                  2   \n",
       "Borno                                                        2   \n",
       "Bayelsa                                                      2   \n",
       "Plateau                                                      2   \n",
       "Niger                                                        1   "
      ]
     },
     "execution_count": 11,
     "metadata": {},
     "output_type": "execute_result"
    }
   ],
   "source": [
    "#Let look out for the State That has more This Building More\n",
    "\n",
    "df[['state','title']].groupby('state').count().rename(columns={'title':'Counting The Building Types in Each State in Nigeria'}).sort_values(ascending=False,by=['Counting The Building Types in Each State in Nigeria'])"
   ]
  },
  {
   "cell_type": "markdown",
   "id": "843c9f92",
   "metadata": {},
   "source": [
    "*So Presently with The look thing Lagos Take the lead*"
   ]
  },
  {
   "cell_type": "markdown",
   "id": "88ceece0",
   "metadata": {},
   "source": [
    "*So presently we dont Knoww the type of houses Each State Has??*"
   ]
  },
  {
   "cell_type": "code",
   "execution_count": 12,
   "id": "54737c1b",
   "metadata": {},
   "outputs": [
    {
     "data": {
      "text/plain": [
       "Detached Duplex           11802\n",
       "Semi Detached Duplex       2100\n",
       "Terraced Duplexes          2100\n",
       "Detached Bungalow          1052\n",
       "Block of Flats             1050\n",
       "Semi Detached Bungalow      243\n",
       "Terraced Bungalow            98\n",
       "Name: title, dtype: int64"
      ]
     },
     "execution_count": 12,
     "metadata": {},
     "output_type": "execute_result"
    }
   ],
   "source": [
    "#We filter out by focusing on Lagos alone\n",
    "\n",
    "lagos=df.query('state==\"Lagos\"')\n",
    "\n",
    "lagos['title'].value_counts()"
   ]
  },
  {
   "cell_type": "markdown",
   "id": "9a2ada8b",
   "metadata": {},
   "source": [
    "*As usual Detached Duplex take The Lead of the Most type of House in Lagos*"
   ]
  },
  {
   "cell_type": "markdown",
   "id": "2804c0b2",
   "metadata": {},
   "source": [
    "> in Which town so we have This house Structure Built the Most?"
   ]
  },
  {
   "cell_type": "code",
   "execution_count": 13,
   "id": "f5cb42ff",
   "metadata": {},
   "outputs": [
    {
     "data": {
      "text/html": [
       "<div>\n",
       "<style scoped>\n",
       "    .dataframe tbody tr th:only-of-type {\n",
       "        vertical-align: middle;\n",
       "    }\n",
       "\n",
       "    .dataframe tbody tr th {\n",
       "        vertical-align: top;\n",
       "    }\n",
       "\n",
       "    .dataframe thead th {\n",
       "        text-align: right;\n",
       "    }\n",
       "</style>\n",
       "<table border=\"1\" class=\"dataframe\">\n",
       "  <thead>\n",
       "    <tr style=\"text-align: right;\">\n",
       "      <th></th>\n",
       "      <th>bedrooms</th>\n",
       "      <th>bathrooms</th>\n",
       "      <th>toilets</th>\n",
       "      <th>parking_space</th>\n",
       "      <th>title</th>\n",
       "      <th>town</th>\n",
       "      <th>state</th>\n",
       "      <th>price</th>\n",
       "    </tr>\n",
       "  </thead>\n",
       "  <tbody>\n",
       "    <tr>\n",
       "      <th>2</th>\n",
       "      <td>4.0</td>\n",
       "      <td>5.0</td>\n",
       "      <td>5.0</td>\n",
       "      <td>4.0</td>\n",
       "      <td>Detached Duplex</td>\n",
       "      <td>Lekki</td>\n",
       "      <td>Lagos</td>\n",
       "      <td>120000000.0</td>\n",
       "    </tr>\n",
       "    <tr>\n",
       "      <th>3</th>\n",
       "      <td>4.0</td>\n",
       "      <td>4.0</td>\n",
       "      <td>5.0</td>\n",
       "      <td>6.0</td>\n",
       "      <td>Detached Duplex</td>\n",
       "      <td>Ajah</td>\n",
       "      <td>Lagos</td>\n",
       "      <td>40000000.0</td>\n",
       "    </tr>\n",
       "    <tr>\n",
       "      <th>4</th>\n",
       "      <td>4.0</td>\n",
       "      <td>4.0</td>\n",
       "      <td>5.0</td>\n",
       "      <td>2.0</td>\n",
       "      <td>Semi Detached Duplex</td>\n",
       "      <td>Lekki</td>\n",
       "      <td>Lagos</td>\n",
       "      <td>75000000.0</td>\n",
       "    </tr>\n",
       "    <tr>\n",
       "      <th>5</th>\n",
       "      <td>5.0</td>\n",
       "      <td>5.0</td>\n",
       "      <td>6.0</td>\n",
       "      <td>1.0</td>\n",
       "      <td>Detached Duplex</td>\n",
       "      <td>Lekki</td>\n",
       "      <td>Lagos</td>\n",
       "      <td>450000000.0</td>\n",
       "    </tr>\n",
       "    <tr>\n",
       "      <th>6</th>\n",
       "      <td>4.0</td>\n",
       "      <td>5.0</td>\n",
       "      <td>5.0</td>\n",
       "      <td>4.0</td>\n",
       "      <td>Detached Duplex</td>\n",
       "      <td>Lekki</td>\n",
       "      <td>Lagos</td>\n",
       "      <td>65000000.0</td>\n",
       "    </tr>\n",
       "    <tr>\n",
       "      <th>...</th>\n",
       "      <td>...</td>\n",
       "      <td>...</td>\n",
       "      <td>...</td>\n",
       "      <td>...</td>\n",
       "      <td>...</td>\n",
       "      <td>...</td>\n",
       "      <td>...</td>\n",
       "      <td>...</td>\n",
       "    </tr>\n",
       "    <tr>\n",
       "      <th>24318</th>\n",
       "      <td>4.0</td>\n",
       "      <td>5.0</td>\n",
       "      <td>5.0</td>\n",
       "      <td>4.0</td>\n",
       "      <td>Semi Detached Duplex</td>\n",
       "      <td>Lekki</td>\n",
       "      <td>Lagos</td>\n",
       "      <td>110000000.0</td>\n",
       "    </tr>\n",
       "    <tr>\n",
       "      <th>24320</th>\n",
       "      <td>3.0</td>\n",
       "      <td>4.0</td>\n",
       "      <td>4.0</td>\n",
       "      <td>5.0</td>\n",
       "      <td>Detached Duplex</td>\n",
       "      <td>Lekki</td>\n",
       "      <td>Lagos</td>\n",
       "      <td>80000000.0</td>\n",
       "    </tr>\n",
       "    <tr>\n",
       "      <th>24323</th>\n",
       "      <td>4.0</td>\n",
       "      <td>5.0</td>\n",
       "      <td>5.0</td>\n",
       "      <td>4.0</td>\n",
       "      <td>Detached Duplex</td>\n",
       "      <td>Lekki</td>\n",
       "      <td>Lagos</td>\n",
       "      <td>68000000.0</td>\n",
       "    </tr>\n",
       "    <tr>\n",
       "      <th>24324</th>\n",
       "      <td>3.0</td>\n",
       "      <td>4.0</td>\n",
       "      <td>4.0</td>\n",
       "      <td>3.0</td>\n",
       "      <td>Block of Flats</td>\n",
       "      <td>Victoria Island (VI)</td>\n",
       "      <td>Lagos</td>\n",
       "      <td>78000000.0</td>\n",
       "    </tr>\n",
       "    <tr>\n",
       "      <th>24325</th>\n",
       "      <td>4.0</td>\n",
       "      <td>5.0</td>\n",
       "      <td>5.0</td>\n",
       "      <td>4.0</td>\n",
       "      <td>Detached Duplex</td>\n",
       "      <td>Lekki</td>\n",
       "      <td>Lagos</td>\n",
       "      <td>65000000.0</td>\n",
       "    </tr>\n",
       "  </tbody>\n",
       "</table>\n",
       "<p>18445 rows × 8 columns</p>\n",
       "</div>"
      ],
      "text/plain": [
       "       bedrooms  bathrooms  toilets  parking_space                 title  \\\n",
       "2           4.0        5.0      5.0            4.0       Detached Duplex   \n",
       "3           4.0        4.0      5.0            6.0       Detached Duplex   \n",
       "4           4.0        4.0      5.0            2.0  Semi Detached Duplex   \n",
       "5           5.0        5.0      6.0            1.0       Detached Duplex   \n",
       "6           4.0        5.0      5.0            4.0       Detached Duplex   \n",
       "...         ...        ...      ...            ...                   ...   \n",
       "24318       4.0        5.0      5.0            4.0  Semi Detached Duplex   \n",
       "24320       3.0        4.0      4.0            5.0       Detached Duplex   \n",
       "24323       4.0        5.0      5.0            4.0       Detached Duplex   \n",
       "24324       3.0        4.0      4.0            3.0        Block of Flats   \n",
       "24325       4.0        5.0      5.0            4.0       Detached Duplex   \n",
       "\n",
       "                       town  state        price  \n",
       "2                     Lekki  Lagos  120000000.0  \n",
       "3                      Ajah  Lagos   40000000.0  \n",
       "4                     Lekki  Lagos   75000000.0  \n",
       "5                     Lekki  Lagos  450000000.0  \n",
       "6                     Lekki  Lagos   65000000.0  \n",
       "...                     ...    ...          ...  \n",
       "24318                 Lekki  Lagos  110000000.0  \n",
       "24320                 Lekki  Lagos   80000000.0  \n",
       "24323                 Lekki  Lagos   68000000.0  \n",
       "24324  Victoria Island (VI)  Lagos   78000000.0  \n",
       "24325                 Lekki  Lagos   65000000.0  \n",
       "\n",
       "[18445 rows x 8 columns]"
      ]
     },
     "execution_count": 13,
     "metadata": {},
     "output_type": "execute_result"
    }
   ],
   "source": [
    "lagos"
   ]
  },
  {
   "cell_type": "code",
   "execution_count": 14,
   "id": "aab0a6e5",
   "metadata": {},
   "outputs": [
    {
     "data": {
      "text/plain": [
       "<AxesSubplot:title={'center':'Lagos by Building Structure'}, ylabel='town'>"
      ]
     },
     "execution_count": 14,
     "metadata": {},
     "output_type": "execute_result"
    },
    {
     "data": {
      "image/png": "[encoded data removed]",
      "text/plain": [
       "<Figure size 1200x1000 with 1 Axes>"
      ]
     },
     "metadata": {},
     "output_type": "display_data"
    }
   ],
   "source": [
    "lagos[['title','town']].groupby('town').size().plot.barh(figsize=(12,10),title='Lagos by Building Structure')"
   ]
  },
  {
   "cell_type": "markdown",
   "id": "55ebc527",
   "metadata": {},
   "source": [
    "*Focusing On Lagos Alone, and it turn out that Lekki and Ajah Came out solid*"
   ]
  },
  {
   "cell_type": "code",
   "execution_count": 15,
   "id": "38556ca4",
   "metadata": {},
   "outputs": [
    {
     "data": {
      "text/plain": [
       "Detached Duplex           1400\n",
       "Terraced Duplexes         1050\n",
       "Semi Detached Duplex       405\n",
       "Detached Bungalow          363\n",
       "Block of Flats             215\n",
       "Semi Detached Bungalow      81\n",
       "Terraced Bungalow           10\n",
       "Name: title, dtype: int64"
      ]
     },
     "execution_count": 15,
     "metadata": {},
     "output_type": "execute_result"
    }
   ],
   "source": [
    "abuja=df.query('state==\"Abuja\"')\n",
    "\n",
    "\n",
    "abuja['title'].value_counts()"
   ]
  },
  {
   "cell_type": "markdown",
   "id": "79959aba",
   "metadata": {},
   "source": [
    "*The same as Lagos, we also have Detached Duplex in Abuja as The AMjor type of building but the differneces compare to second building types in the count , Terraced Duplexes also happen to be the most Common house structured In Abuja*"
   ]
  },
  {
   "cell_type": "code",
   "execution_count": 16,
   "id": "34293156",
   "metadata": {},
   "outputs": [
    {
     "data": {
      "text/plain": [
       "<AxesSubplot:title={'center':'Abuja by Building Structure'}, ylabel='town'>"
      ]
     },
     "execution_count": 16,
     "metadata": {},
     "output_type": "execute_result"
    },
    {
     "data": {
      "image/png": "[encoded data removed]",
      "text/plain": [
       "<Figure size 1200x1000 with 1 Axes>"
      ]
     },
     "metadata": {},
     "output_type": "display_data"
    }
   ],
   "source": [
    "abuja[['title','town']].groupby('town').size().sort_values(ascending=True).plot.barh(figsize=(12,10),title='Abuja by Building Structure')"
   ]
  },
  {
   "cell_type": "markdown",
   "id": "77756245",
   "metadata": {},
   "source": [
    "*Focusing on Abuja, Then turn out that Gwrinpa City in abuja has More have bildings*"
   ]
  },
  {
   "cell_type": "code",
   "execution_count": 17,
   "id": "878ee758",
   "metadata": {},
   "outputs": [
    {
     "data": {
      "text/plain": [
       "Detached Bungalow         267\n",
       "Block of Flats            108\n",
       "Detached Duplex           103\n",
       "Semi Detached Bungalow     75\n",
       "Terraced Bungalow          30\n",
       "Terraced Duplexes          27\n",
       "Semi Detached Duplex       27\n",
       "Name: title, dtype: int64"
      ]
     },
     "execution_count": 17,
     "metadata": {},
     "output_type": "execute_result"
    }
   ],
   "source": [
    "#Let Check for The Ogun\n",
    "\n",
    "ogun=df.query('state==\"Ogun\"')\n",
    "\n",
    "ogun['title'].value_counts()"
   ]
  },
  {
   "cell_type": "markdown",
   "id": "3d5a7f1f",
   "metadata": {},
   "source": [
    "*This Time Around wwe Gat Detached Bungalow has kain of house structure to be ffound most in Ogun State*"
   ]
  },
  {
   "cell_type": "code",
   "execution_count": 18,
   "id": "bd7672b8",
   "metadata": {},
   "outputs": [
    {
     "data": {
      "text/plain": [
       "<AxesSubplot:title={'center':'Ogun by Building Structure'}, ylabel='town'>"
      ]
     },
     "execution_count": 18,
     "metadata": {},
     "output_type": "execute_result"
    },
    {
     "data": {
      "image/png": "[encoded data removed]",
      "text/plain": [
       "<Figure size 1200x1000 with 1 Axes>"
      ]
     },
     "metadata": {},
     "output_type": "display_data"
    }
   ],
   "source": [
    "ogun[['title','town']].groupby('town').size().sort_values(ascending=True).plot.barh(figsize=(12,10),title='Ogun by Building Structure')"
   ]
  },
  {
   "cell_type": "markdown",
   "id": "675f3c88",
   "metadata": {},
   "source": [
    "*mowe Ofada Take the lead*"
   ]
  },
  {
   "cell_type": "code",
   "execution_count": 19,
   "id": "22b7b696",
   "metadata": {},
   "outputs": [
    {
     "data": {
      "text/html": [
       "<div>\n",
       "<style scoped>\n",
       "    .dataframe tbody tr th:only-of-type {\n",
       "        vertical-align: middle;\n",
       "    }\n",
       "\n",
       "    .dataframe tbody tr th {\n",
       "        vertical-align: top;\n",
       "    }\n",
       "\n",
       "    .dataframe thead th {\n",
       "        text-align: right;\n",
       "    }\n",
       "</style>\n",
       "<table border=\"1\" class=\"dataframe\">\n",
       "  <thead>\n",
       "    <tr style=\"text-align: right;\">\n",
       "      <th></th>\n",
       "      <th>bedrooms</th>\n",
       "      <th>bathrooms</th>\n",
       "      <th>toilets</th>\n",
       "      <th>parking_space</th>\n",
       "      <th>title</th>\n",
       "      <th>town</th>\n",
       "      <th>state</th>\n",
       "      <th>price</th>\n",
       "    </tr>\n",
       "  </thead>\n",
       "  <tbody>\n",
       "    <tr>\n",
       "      <th>0</th>\n",
       "      <td>6.0</td>\n",
       "      <td>5.0</td>\n",
       "      <td>5.0</td>\n",
       "      <td>4.0</td>\n",
       "      <td>Detached Duplex</td>\n",
       "      <td>Mabushi</td>\n",
       "      <td>Abuja</td>\n",
       "      <td>450000000.0</td>\n",
       "    </tr>\n",
       "    <tr>\n",
       "      <th>1</th>\n",
       "      <td>4.0</td>\n",
       "      <td>5.0</td>\n",
       "      <td>5.0</td>\n",
       "      <td>4.0</td>\n",
       "      <td>Terraced Duplexes</td>\n",
       "      <td>Katampe</td>\n",
       "      <td>Abuja</td>\n",
       "      <td>800000000.0</td>\n",
       "    </tr>\n",
       "    <tr>\n",
       "      <th>2</th>\n",
       "      <td>4.0</td>\n",
       "      <td>5.0</td>\n",
       "      <td>5.0</td>\n",
       "      <td>4.0</td>\n",
       "      <td>Detached Duplex</td>\n",
       "      <td>Lekki</td>\n",
       "      <td>Lagos</td>\n",
       "      <td>120000000.0</td>\n",
       "    </tr>\n",
       "    <tr>\n",
       "      <th>3</th>\n",
       "      <td>4.0</td>\n",
       "      <td>4.0</td>\n",
       "      <td>5.0</td>\n",
       "      <td>6.0</td>\n",
       "      <td>Detached Duplex</td>\n",
       "      <td>Ajah</td>\n",
       "      <td>Lagos</td>\n",
       "      <td>40000000.0</td>\n",
       "    </tr>\n",
       "    <tr>\n",
       "      <th>4</th>\n",
       "      <td>4.0</td>\n",
       "      <td>4.0</td>\n",
       "      <td>5.0</td>\n",
       "      <td>2.0</td>\n",
       "      <td>Semi Detached Duplex</td>\n",
       "      <td>Lekki</td>\n",
       "      <td>Lagos</td>\n",
       "      <td>75000000.0</td>\n",
       "    </tr>\n",
       "  </tbody>\n",
       "</table>\n",
       "</div>"
      ],
      "text/plain": [
       "   bedrooms  bathrooms  toilets  parking_space                 title     town  \\\n",
       "0       6.0        5.0      5.0            4.0       Detached Duplex  Mabushi   \n",
       "1       4.0        5.0      5.0            4.0     Terraced Duplexes  Katampe   \n",
       "2       4.0        5.0      5.0            4.0       Detached Duplex    Lekki   \n",
       "3       4.0        4.0      5.0            6.0       Detached Duplex     Ajah   \n",
       "4       4.0        4.0      5.0            2.0  Semi Detached Duplex    Lekki   \n",
       "\n",
       "   state        price  \n",
       "0  Abuja  450000000.0  \n",
       "1  Abuja  800000000.0  \n",
       "2  Lagos  120000000.0  \n",
       "3  Lagos   40000000.0  \n",
       "4  Lagos   75000000.0  "
      ]
     },
     "execution_count": 19,
     "metadata": {},
     "output_type": "execute_result"
    }
   ],
   "source": [
    "df.head()"
   ]
  },
  {
   "cell_type": "code",
   "execution_count": 20,
   "id": "d0f92101",
   "metadata": {},
   "outputs": [
    {
     "data": {
      "text/html": [
       "<div>\n",
       "<style scoped>\n",
       "    .dataframe tbody tr th:only-of-type {\n",
       "        vertical-align: middle;\n",
       "    }\n",
       "\n",
       "    .dataframe tbody tr th {\n",
       "        vertical-align: top;\n",
       "    }\n",
       "\n",
       "    .dataframe thead th {\n",
       "        text-align: right;\n",
       "    }\n",
       "</style>\n",
       "<table border=\"1\" class=\"dataframe\">\n",
       "  <thead>\n",
       "    <tr style=\"text-align: right;\">\n",
       "      <th></th>\n",
       "      <th>bedrooms</th>\n",
       "      <th>bathrooms</th>\n",
       "      <th>toilets</th>\n",
       "      <th>parking_space</th>\n",
       "      <th>price</th>\n",
       "    </tr>\n",
       "  </thead>\n",
       "  <tbody>\n",
       "    <tr>\n",
       "      <th>count</th>\n",
       "      <td>24326.000000</td>\n",
       "      <td>24326.000000</td>\n",
       "      <td>24326.000000</td>\n",
       "      <td>24326.000000</td>\n",
       "      <td>2.432600e+04</td>\n",
       "    </tr>\n",
       "    <tr>\n",
       "      <th>mean</th>\n",
       "      <td>4.338814</td>\n",
       "      <td>4.600798</td>\n",
       "      <td>5.176355</td>\n",
       "      <td>4.041725</td>\n",
       "      <td>3.013802e+08</td>\n",
       "    </tr>\n",
       "    <tr>\n",
       "      <th>std</th>\n",
       "      <td>1.138497</td>\n",
       "      <td>1.163161</td>\n",
       "      <td>1.226253</td>\n",
       "      <td>1.399936</td>\n",
       "      <td>1.220403e+10</td>\n",
       "    </tr>\n",
       "    <tr>\n",
       "      <th>min</th>\n",
       "      <td>1.000000</td>\n",
       "      <td>1.000000</td>\n",
       "      <td>1.000000</td>\n",
       "      <td>1.000000</td>\n",
       "      <td>9.000000e+04</td>\n",
       "    </tr>\n",
       "    <tr>\n",
       "      <th>25%</th>\n",
       "      <td>4.000000</td>\n",
       "      <td>4.000000</td>\n",
       "      <td>5.000000</td>\n",
       "      <td>4.000000</td>\n",
       "      <td>5.200000e+07</td>\n",
       "    </tr>\n",
       "    <tr>\n",
       "      <th>50%</th>\n",
       "      <td>4.000000</td>\n",
       "      <td>5.000000</td>\n",
       "      <td>5.000000</td>\n",
       "      <td>4.000000</td>\n",
       "      <td>8.500000e+07</td>\n",
       "    </tr>\n",
       "    <tr>\n",
       "      <th>75%</th>\n",
       "      <td>5.000000</td>\n",
       "      <td>5.000000</td>\n",
       "      <td>6.000000</td>\n",
       "      <td>4.000000</td>\n",
       "      <td>1.600000e+08</td>\n",
       "    </tr>\n",
       "    <tr>\n",
       "      <th>max</th>\n",
       "      <td>9.000000</td>\n",
       "      <td>9.000000</td>\n",
       "      <td>9.000000</td>\n",
       "      <td>9.000000</td>\n",
       "      <td>1.800000e+12</td>\n",
       "    </tr>\n",
       "  </tbody>\n",
       "</table>\n",
       "</div>"
      ],
      "text/plain": [
       "           bedrooms     bathrooms       toilets  parking_space         price\n",
       "count  24326.000000  24326.000000  24326.000000   24326.000000  2.432600e+04\n",
       "mean       4.338814      4.600798      5.176355       4.041725  3.013802e+08\n",
       "std        1.138497      1.163161      1.226253       1.399936  1.220403e+10\n",
       "min        1.000000      1.000000      1.000000       1.000000  9.000000e+04\n",
       "25%        4.000000      4.000000      5.000000       4.000000  5.200000e+07\n",
       "50%        4.000000      5.000000      5.000000       4.000000  8.500000e+07\n",
       "75%        5.000000      5.000000      6.000000       4.000000  1.600000e+08\n",
       "max        9.000000      9.000000      9.000000       9.000000  1.800000e+12"
      ]
     },
     "execution_count": 20,
     "metadata": {},
     "output_type": "execute_result"
    }
   ],
   "source": [
    "df.describe()"
   ]
  },
  {
   "cell_type": "markdown",
   "id": "cf93da15",
   "metadata": {},
   "source": [
    "*checking the statistical analysis*"
   ]
  },
  {
   "cell_type": "code",
   "execution_count": 22,
   "id": "cfba3bf2",
   "metadata": {},
   "outputs": [
    {
     "data": {
      "text/plain": [
       "8.0"
      ]
     },
     "execution_count": 22,
     "metadata": {},
     "output_type": "execute_result"
    }
   ],
   "source": [
    "#checking for the differences between the minimum and maximum of the bedroom\n",
    "\n",
    "np.ptp(lagos['bedrooms'])"
   ]
  },
  {
   "cell_type": "code",
   "execution_count": 23,
   "id": "f8f51683",
   "metadata": {},
   "outputs": [
    {
     "data": {
      "text/html": [
       "<div>\n",
       "<style scoped>\n",
       "    .dataframe tbody tr th:only-of-type {\n",
       "        vertical-align: middle;\n",
       "    }\n",
       "\n",
       "    .dataframe tbody tr th {\n",
       "        vertical-align: top;\n",
       "    }\n",
       "\n",
       "    .dataframe thead th {\n",
       "        text-align: right;\n",
       "    }\n",
       "</style>\n",
       "<table border=\"1\" class=\"dataframe\">\n",
       "  <thead>\n",
       "    <tr style=\"text-align: right;\">\n",
       "      <th></th>\n",
       "      <th>bedrooms</th>\n",
       "      <th>bathrooms</th>\n",
       "      <th>toilets</th>\n",
       "      <th>parking_space</th>\n",
       "      <th>price</th>\n",
       "    </tr>\n",
       "  </thead>\n",
       "  <tbody>\n",
       "    <tr>\n",
       "      <th>count</th>\n",
       "      <td>18445.000000</td>\n",
       "      <td>18445.000000</td>\n",
       "      <td>18445.000000</td>\n",
       "      <td>18445.000000</td>\n",
       "      <td>1.844500e+04</td>\n",
       "    </tr>\n",
       "    <tr>\n",
       "      <th>mean</th>\n",
       "      <td>4.409325</td>\n",
       "      <td>4.649119</td>\n",
       "      <td>5.274221</td>\n",
       "      <td>4.037680</td>\n",
       "      <td>3.457721e+08</td>\n",
       "    </tr>\n",
       "    <tr>\n",
       "      <th>std</th>\n",
       "      <td>1.036882</td>\n",
       "      <td>1.067630</td>\n",
       "      <td>1.124706</td>\n",
       "      <td>1.307827</td>\n",
       "      <td>1.399940e+10</td>\n",
       "    </tr>\n",
       "    <tr>\n",
       "      <th>min</th>\n",
       "      <td>1.000000</td>\n",
       "      <td>1.000000</td>\n",
       "      <td>1.000000</td>\n",
       "      <td>1.000000</td>\n",
       "      <td>9.000000e+04</td>\n",
       "    </tr>\n",
       "    <tr>\n",
       "      <th>25%</th>\n",
       "      <td>4.000000</td>\n",
       "      <td>4.000000</td>\n",
       "      <td>5.000000</td>\n",
       "      <td>4.000000</td>\n",
       "      <td>6.000000e+07</td>\n",
       "    </tr>\n",
       "    <tr>\n",
       "      <th>50%</th>\n",
       "      <td>4.000000</td>\n",
       "      <td>5.000000</td>\n",
       "      <td>5.000000</td>\n",
       "      <td>4.000000</td>\n",
       "      <td>9.500000e+07</td>\n",
       "    </tr>\n",
       "    <tr>\n",
       "      <th>75%</th>\n",
       "      <td>5.000000</td>\n",
       "      <td>5.000000</td>\n",
       "      <td>6.000000</td>\n",
       "      <td>4.000000</td>\n",
       "      <td>1.700000e+08</td>\n",
       "    </tr>\n",
       "    <tr>\n",
       "      <th>max</th>\n",
       "      <td>9.000000</td>\n",
       "      <td>9.000000</td>\n",
       "      <td>9.000000</td>\n",
       "      <td>9.000000</td>\n",
       "      <td>1.800000e+12</td>\n",
       "    </tr>\n",
       "  </tbody>\n",
       "</table>\n",
       "</div>"
      ],
      "text/plain": [
       "           bedrooms     bathrooms       toilets  parking_space         price\n",
       "count  18445.000000  18445.000000  18445.000000   18445.000000  1.844500e+04\n",
       "mean       4.409325      4.649119      5.274221       4.037680  3.457721e+08\n",
       "std        1.036882      1.067630      1.124706       1.307827  1.399940e+10\n",
       "min        1.000000      1.000000      1.000000       1.000000  9.000000e+04\n",
       "25%        4.000000      4.000000      5.000000       4.000000  6.000000e+07\n",
       "50%        4.000000      5.000000      5.000000       4.000000  9.500000e+07\n",
       "75%        5.000000      5.000000      6.000000       4.000000  1.700000e+08\n",
       "max        9.000000      9.000000      9.000000       9.000000  1.800000e+12"
      ]
     },
     "execution_count": 23,
     "metadata": {},
     "output_type": "execute_result"
    }
   ],
   "source": [
    "lagos.describe()"
   ]
  },
  {
   "cell_type": "code",
   "execution_count": 24,
   "id": "76971a53",
   "metadata": {},
   "outputs": [],
   "source": [
    "#let create a Function that will Tak care of That easily\n",
    "\n",
    "\n",
    "def minmax(X):\n",
    "    mini=lagos[X].idxmin()\n",
    "    maxi=lagos[X].idxmax()\n",
    "    minimum=pd.DataFrame(lagos.loc[mini,:])\n",
    "    maximum=pd.DataFrame(lagos.loc[maxi,:])\n",
    "    return pd.concat([minimum,maximum],axis=1)"
   ]
  },
  {
   "cell_type": "code",
   "execution_count": 25,
   "id": "8df77548",
   "metadata": {},
   "outputs": [
    {
     "data": {
      "text/html": [
       "<div>\n",
       "<style scoped>\n",
       "    .dataframe tbody tr th:only-of-type {\n",
       "        vertical-align: middle;\n",
       "    }\n",
       "\n",
       "    .dataframe tbody tr th {\n",
       "        vertical-align: top;\n",
       "    }\n",
       "\n",
       "    .dataframe thead th {\n",
       "        text-align: right;\n",
       "    }\n",
       "</style>\n",
       "<table border=\"1\" class=\"dataframe\">\n",
       "  <thead>\n",
       "    <tr style=\"text-align: right;\">\n",
       "      <th></th>\n",
       "      <th>8</th>\n",
       "      <th>183</th>\n",
       "    </tr>\n",
       "  </thead>\n",
       "  <tbody>\n",
       "    <tr>\n",
       "      <th>bedrooms</th>\n",
       "      <td>1.0</td>\n",
       "      <td>9.0</td>\n",
       "    </tr>\n",
       "    <tr>\n",
       "      <th>bathrooms</th>\n",
       "      <td>1.0</td>\n",
       "      <td>9.0</td>\n",
       "    </tr>\n",
       "    <tr>\n",
       "      <th>toilets</th>\n",
       "      <td>1.0</td>\n",
       "      <td>1.0</td>\n",
       "    </tr>\n",
       "    <tr>\n",
       "      <th>parking_space</th>\n",
       "      <td>1.0</td>\n",
       "      <td>1.0</td>\n",
       "    </tr>\n",
       "    <tr>\n",
       "      <th>title</th>\n",
       "      <td>Detached Duplex</td>\n",
       "      <td>Detached Duplex</td>\n",
       "    </tr>\n",
       "    <tr>\n",
       "      <th>town</th>\n",
       "      <td>Lekki</td>\n",
       "      <td>Isolo</td>\n",
       "    </tr>\n",
       "    <tr>\n",
       "      <th>state</th>\n",
       "      <td>Lagos</td>\n",
       "      <td>Lagos</td>\n",
       "    </tr>\n",
       "    <tr>\n",
       "      <th>price</th>\n",
       "      <td>200000000.0</td>\n",
       "      <td>70000000.0</td>\n",
       "    </tr>\n",
       "  </tbody>\n",
       "</table>\n",
       "</div>"
      ],
      "text/plain": [
       "                           8                183\n",
       "bedrooms                   1.0              9.0\n",
       "bathrooms                  1.0              9.0\n",
       "toilets                    1.0              1.0\n",
       "parking_space              1.0              1.0\n",
       "title          Detached Duplex  Detached Duplex\n",
       "town                     Lekki            Isolo\n",
       "state                    Lagos            Lagos\n",
       "price              200000000.0       70000000.0"
      ]
     },
     "execution_count": 25,
     "metadata": {},
     "output_type": "execute_result"
    }
   ],
   "source": [
    "minmax('bedrooms')"
   ]
  },
  {
   "cell_type": "markdown",
   "id": "04533f12",
   "metadata": {},
   "source": [
    "*The max bedroom in Lagos is located in isolo with 9 Bedroom, 9 bathrooms and one toilet and one parking Space at the rate of 70000000*\n",
    "\n",
    "*while the minimum bedroom in Lagos is 1 located in Lekki Amount 200000000*"
   ]
  },
  {
   "cell_type": "code",
   "execution_count": 26,
   "id": "d261b372",
   "metadata": {},
   "outputs": [
    {
     "data": {
      "text/html": [
       "<div>\n",
       "<style scoped>\n",
       "    .dataframe tbody tr th:only-of-type {\n",
       "        vertical-align: middle;\n",
       "    }\n",
       "\n",
       "    .dataframe tbody tr th {\n",
       "        vertical-align: top;\n",
       "    }\n",
       "\n",
       "    .dataframe thead th {\n",
       "        text-align: right;\n",
       "    }\n",
       "</style>\n",
       "<table border=\"1\" class=\"dataframe\">\n",
       "  <thead>\n",
       "    <tr style=\"text-align: right;\">\n",
       "      <th></th>\n",
       "      <th>425</th>\n",
       "      <th>478</th>\n",
       "    </tr>\n",
       "  </thead>\n",
       "  <tbody>\n",
       "    <tr>\n",
       "      <th>bedrooms</th>\n",
       "      <td>1.0</td>\n",
       "      <td>9.0</td>\n",
       "    </tr>\n",
       "    <tr>\n",
       "      <th>bathrooms</th>\n",
       "      <td>1.0</td>\n",
       "      <td>9.0</td>\n",
       "    </tr>\n",
       "    <tr>\n",
       "      <th>toilets</th>\n",
       "      <td>1.0</td>\n",
       "      <td>9.0</td>\n",
       "    </tr>\n",
       "    <tr>\n",
       "      <th>parking_space</th>\n",
       "      <td>1.0</td>\n",
       "      <td>6.0</td>\n",
       "    </tr>\n",
       "    <tr>\n",
       "      <th>title</th>\n",
       "      <td>Semi Detached Duplex</td>\n",
       "      <td>Detached Duplex</td>\n",
       "    </tr>\n",
       "    <tr>\n",
       "      <th>town</th>\n",
       "      <td>Katampe</td>\n",
       "      <td>Maitama District</td>\n",
       "    </tr>\n",
       "    <tr>\n",
       "      <th>state</th>\n",
       "      <td>Abuja</td>\n",
       "      <td>Abuja</td>\n",
       "    </tr>\n",
       "    <tr>\n",
       "      <th>price</th>\n",
       "      <td>200000000.0</td>\n",
       "      <td>700000000.0</td>\n",
       "    </tr>\n",
       "  </tbody>\n",
       "</table>\n",
       "</div>"
      ],
      "text/plain": [
       "                                425               478\n",
       "bedrooms                        1.0               9.0\n",
       "bathrooms                       1.0               9.0\n",
       "toilets                         1.0               9.0\n",
       "parking_space                   1.0               6.0\n",
       "title          Semi Detached Duplex   Detached Duplex\n",
       "town                        Katampe  Maitama District\n",
       "state                         Abuja             Abuja\n",
       "price                   200000000.0       700000000.0"
      ]
     },
     "execution_count": 26,
     "metadata": {},
     "output_type": "execute_result"
    }
   ],
   "source": [
    "def min_abja(X):\n",
    "    mini=abuja[X].idxmin()\n",
    "    maxi=abuja[X].idxmax()\n",
    "    minimum=pd.DataFrame(abuja.loc[mini,:])\n",
    "    maximum=pd.DataFrame(abuja.loc[maxi,:])\n",
    "    return pd.concat([minimum,maximum],axis=1)\n",
    "\n",
    "\n",
    "min_abja('bedrooms')"
   ]
  },
  {
   "cell_type": "markdown",
   "id": "eb7c8ea9",
   "metadata": {},
   "source": [
    "*The max bedroom in Abuja is located in Maitama District with 9 Bedroom, 9 bathrooms and 9 toilet and 6 parking Space at the rate of 70000000*\n",
    "\n",
    "*while the minimum bedroom in Abuja is 1 located in Katampe Amount 200000000 title House is Semi Detahed Duplex*"
   ]
  },
  {
   "cell_type": "code",
   "execution_count": 27,
   "id": "b50ce89d",
   "metadata": {},
   "outputs": [
    {
     "data": {
      "text/html": [
       "<div>\n",
       "<style scoped>\n",
       "    .dataframe tbody tr th:only-of-type {\n",
       "        vertical-align: middle;\n",
       "    }\n",
       "\n",
       "    .dataframe tbody tr th {\n",
       "        vertical-align: top;\n",
       "    }\n",
       "\n",
       "    .dataframe thead th {\n",
       "        text-align: right;\n",
       "    }\n",
       "</style>\n",
       "<table border=\"1\" class=\"dataframe\">\n",
       "  <thead>\n",
       "    <tr style=\"text-align: right;\">\n",
       "      <th></th>\n",
       "      <th>78</th>\n",
       "      <th>8158</th>\n",
       "    </tr>\n",
       "  </thead>\n",
       "  <tbody>\n",
       "    <tr>\n",
       "      <th>bedrooms</th>\n",
       "      <td>1.0</td>\n",
       "      <td>9.0</td>\n",
       "    </tr>\n",
       "    <tr>\n",
       "      <th>bathrooms</th>\n",
       "      <td>2.0</td>\n",
       "      <td>8.0</td>\n",
       "    </tr>\n",
       "    <tr>\n",
       "      <th>toilets</th>\n",
       "      <td>2.0</td>\n",
       "      <td>9.0</td>\n",
       "    </tr>\n",
       "    <tr>\n",
       "      <th>parking_space</th>\n",
       "      <td>1.0</td>\n",
       "      <td>8.0</td>\n",
       "    </tr>\n",
       "    <tr>\n",
       "      <th>title</th>\n",
       "      <td>Block of Flats</td>\n",
       "      <td>Detached Duplex</td>\n",
       "    </tr>\n",
       "    <tr>\n",
       "      <th>town</th>\n",
       "      <td>Sango Ota</td>\n",
       "      <td>Mowe Ofada</td>\n",
       "    </tr>\n",
       "    <tr>\n",
       "      <th>state</th>\n",
       "      <td>Ogun</td>\n",
       "      <td>Ogun</td>\n",
       "    </tr>\n",
       "    <tr>\n",
       "      <th>price</th>\n",
       "      <td>6900000.0</td>\n",
       "      <td>35000000.0</td>\n",
       "    </tr>\n",
       "  </tbody>\n",
       "</table>\n",
       "</div>"
      ],
      "text/plain": [
       "                         78               8158\n",
       "bedrooms                  1.0              9.0\n",
       "bathrooms                 2.0              8.0\n",
       "toilets                   2.0              9.0\n",
       "parking_space             1.0              8.0\n",
       "title          Block of Flats  Detached Duplex\n",
       "town                Sango Ota       Mowe Ofada\n",
       "state                    Ogun             Ogun\n",
       "price               6900000.0       35000000.0"
      ]
     },
     "execution_count": 27,
     "metadata": {},
     "output_type": "execute_result"
    }
   ],
   "source": [
    "def min_ogun(X):\n",
    "    mini=ogun[X].idxmin()\n",
    "    maxi=ogun[X].idxmax()\n",
    "    minimum=pd.DataFrame(ogun.loc[mini,:])\n",
    "    maximum=pd.DataFrame(ogun.loc[maxi,:])\n",
    "    return pd.concat([minimum,maximum],axis=1)\n",
    "\n",
    "\n",
    "min_ogun('bedrooms')"
   ]
  },
  {
   "cell_type": "markdown",
   "id": "0c5c652f",
   "metadata": {},
   "source": [
    "*The max bedroom in Ogun is Detached Duplex, located in Mowe Ofada with 9 Bedroom, 9 bathrooms and 8 toilet and 8 parking Space at the rate of 350000000*\n",
    "\n",
    "*while the minimum bedroom in Ogun is 1, 2 bathroom,2toilet and 1 parking Space, located in Sango Ota with the Amount 690000000 with House title Block Of Flat*"
   ]
  },
  {
   "cell_type": "markdown",
   "id": "82ca2fe1",
   "metadata": {},
   "source": [
    "*Data Observation* :\n",
    "    \n",
    " If we look at the price tags of each house, we will see that the price tag for each house is not the same.\n",
    "    \n",
    "    due to the features and Area they are established. Ogun State appears to be the most affordable among the prices that come with good quality features and Character.\n",
    "    \n",
    "    Houses in Lagos appear to be the most expensive.* \n"
   ]
  },
  {
   "cell_type": "markdown",
   "id": "8f208dcd",
   "metadata": {},
   "source": [
    "Moving to ML..."
   ]
  },
  {
   "cell_type": "code",
   "execution_count": 28,
   "id": "e889a6fd",
   "metadata": {},
   "outputs": [
    {
     "data": {
      "text/html": [
       "<div>\n",
       "<style scoped>\n",
       "    .dataframe tbody tr th:only-of-type {\n",
       "        vertical-align: middle;\n",
       "    }\n",
       "\n",
       "    .dataframe tbody tr th {\n",
       "        vertical-align: top;\n",
       "    }\n",
       "\n",
       "    .dataframe thead th {\n",
       "        text-align: right;\n",
       "    }\n",
       "</style>\n",
       "<table border=\"1\" class=\"dataframe\">\n",
       "  <thead>\n",
       "    <tr style=\"text-align: right;\">\n",
       "      <th></th>\n",
       "      <th>bedrooms</th>\n",
       "      <th>bathrooms</th>\n",
       "      <th>toilets</th>\n",
       "      <th>parking_space</th>\n",
       "      <th>title</th>\n",
       "      <th>town</th>\n",
       "      <th>state</th>\n",
       "      <th>price</th>\n",
       "    </tr>\n",
       "  </thead>\n",
       "  <tbody>\n",
       "    <tr>\n",
       "      <th>0</th>\n",
       "      <td>6.0</td>\n",
       "      <td>5.0</td>\n",
       "      <td>5.0</td>\n",
       "      <td>4.0</td>\n",
       "      <td>Detached Duplex</td>\n",
       "      <td>Mabushi</td>\n",
       "      <td>Abuja</td>\n",
       "      <td>450000000.0</td>\n",
       "    </tr>\n",
       "    <tr>\n",
       "      <th>1</th>\n",
       "      <td>4.0</td>\n",
       "      <td>5.0</td>\n",
       "      <td>5.0</td>\n",
       "      <td>4.0</td>\n",
       "      <td>Terraced Duplexes</td>\n",
       "      <td>Katampe</td>\n",
       "      <td>Abuja</td>\n",
       "      <td>800000000.0</td>\n",
       "    </tr>\n",
       "    <tr>\n",
       "      <th>2</th>\n",
       "      <td>4.0</td>\n",
       "      <td>5.0</td>\n",
       "      <td>5.0</td>\n",
       "      <td>4.0</td>\n",
       "      <td>Detached Duplex</td>\n",
       "      <td>Lekki</td>\n",
       "      <td>Lagos</td>\n",
       "      <td>120000000.0</td>\n",
       "    </tr>\n",
       "    <tr>\n",
       "      <th>3</th>\n",
       "      <td>4.0</td>\n",
       "      <td>4.0</td>\n",
       "      <td>5.0</td>\n",
       "      <td>6.0</td>\n",
       "      <td>Detached Duplex</td>\n",
       "      <td>Ajah</td>\n",
       "      <td>Lagos</td>\n",
       "      <td>40000000.0</td>\n",
       "    </tr>\n",
       "    <tr>\n",
       "      <th>4</th>\n",
       "      <td>4.0</td>\n",
       "      <td>4.0</td>\n",
       "      <td>5.0</td>\n",
       "      <td>2.0</td>\n",
       "      <td>Semi Detached Duplex</td>\n",
       "      <td>Lekki</td>\n",
       "      <td>Lagos</td>\n",
       "      <td>75000000.0</td>\n",
       "    </tr>\n",
       "  </tbody>\n",
       "</table>\n",
       "</div>"
      ],
      "text/plain": [
       "   bedrooms  bathrooms  toilets  parking_space                 title     town  \\\n",
       "0       6.0        5.0      5.0            4.0       Detached Duplex  Mabushi   \n",
       "1       4.0        5.0      5.0            4.0     Terraced Duplexes  Katampe   \n",
       "2       4.0        5.0      5.0            4.0       Detached Duplex    Lekki   \n",
       "3       4.0        4.0      5.0            6.0       Detached Duplex     Ajah   \n",
       "4       4.0        4.0      5.0            2.0  Semi Detached Duplex    Lekki   \n",
       "\n",
       "   state        price  \n",
       "0  Abuja  450000000.0  \n",
       "1  Abuja  800000000.0  \n",
       "2  Lagos  120000000.0  \n",
       "3  Lagos   40000000.0  \n",
       "4  Lagos   75000000.0  "
      ]
     },
     "execution_count": 28,
     "metadata": {},
     "output_type": "execute_result"
    }
   ],
   "source": [
    "df.head()"
   ]
  },
  {
   "cell_type": "code",
   "execution_count": 29,
   "id": "87e61c5d",
   "metadata": {},
   "outputs": [
    {
     "data": {
      "text/html": [
       "<div>\n",
       "<style scoped>\n",
       "    .dataframe tbody tr th:only-of-type {\n",
       "        vertical-align: middle;\n",
       "    }\n",
       "\n",
       "    .dataframe tbody tr th {\n",
       "        vertical-align: top;\n",
       "    }\n",
       "\n",
       "    .dataframe thead th {\n",
       "        text-align: right;\n",
       "    }\n",
       "</style>\n",
       "<table border=\"1\" class=\"dataframe\">\n",
       "  <thead>\n",
       "    <tr style=\"text-align: right;\">\n",
       "      <th></th>\n",
       "      <th>2693</th>\n",
       "      <th>4096</th>\n",
       "    </tr>\n",
       "  </thead>\n",
       "  <tbody>\n",
       "    <tr>\n",
       "      <th>bedrooms</th>\n",
       "      <td>2.0</td>\n",
       "      <td>7.0</td>\n",
       "    </tr>\n",
       "    <tr>\n",
       "      <th>bathrooms</th>\n",
       "      <td>3.0</td>\n",
       "      <td>7.0</td>\n",
       "    </tr>\n",
       "    <tr>\n",
       "      <th>toilets</th>\n",
       "      <td>3.0</td>\n",
       "      <td>8.0</td>\n",
       "    </tr>\n",
       "    <tr>\n",
       "      <th>parking_space</th>\n",
       "      <td>4.0</td>\n",
       "      <td>8.0</td>\n",
       "    </tr>\n",
       "    <tr>\n",
       "      <th>title</th>\n",
       "      <td>Terraced Duplexes</td>\n",
       "      <td>Detached Duplex</td>\n",
       "    </tr>\n",
       "    <tr>\n",
       "      <th>town</th>\n",
       "      <td>Ibeju Lekki</td>\n",
       "      <td>Ikoyi</td>\n",
       "    </tr>\n",
       "    <tr>\n",
       "      <th>state</th>\n",
       "      <td>Lagos</td>\n",
       "      <td>Lagos</td>\n",
       "    </tr>\n",
       "    <tr>\n",
       "      <th>price</th>\n",
       "      <td>90000.0</td>\n",
       "      <td>1800000000000.0</td>\n",
       "    </tr>\n",
       "  </tbody>\n",
       "</table>\n",
       "</div>"
      ],
      "text/plain": [
       "                            2693             4096\n",
       "bedrooms                     2.0              7.0\n",
       "bathrooms                    3.0              7.0\n",
       "toilets                      3.0              8.0\n",
       "parking_space                4.0              8.0\n",
       "title          Terraced Duplexes  Detached Duplex\n",
       "town                 Ibeju Lekki            Ikoyi\n",
       "state                      Lagos            Lagos\n",
       "price                    90000.0  1800000000000.0"
      ]
     },
     "execution_count": 29,
     "metadata": {},
     "output_type": "execute_result"
    }
   ],
   "source": [
    "def min_(X):\n",
    "    mini=df[X].idxmin()\n",
    "    maxi=df[X].idxmax()\n",
    "    minimum=pd.DataFrame(df.loc[mini,:])\n",
    "    maximum=pd.DataFrame(df.loc[maxi,:])\n",
    "    return pd.concat([minimum,maximum],axis=1)\n",
    "\n",
    "\n",
    "min_('price')\n",
    "\n",
    "#creating a function to check out the minimum and maximum house price"
   ]
  },
  {
   "cell_type": "markdown",
   "id": "058e0627",
   "metadata": {},
   "source": [
    "*The Most Expensive House is Located in Ikoyi with the price tag of 18000000000* #to be sincere with so many zeros."
   ]
  },
  {
   "cell_type": "code",
   "execution_count": 30,
   "id": "09708da9",
   "metadata": {},
   "outputs": [],
   "source": [
    "from sklearn.preprocessing import LabelEncoder\n",
    "\n",
    "code=LabelEncoder()\n",
    "\n",
    "df['title']=code.fit_transform(df['title'])\n",
    "df['town']=code.fit_transform(df['town'])\n",
    "df['state']=code.fit_transform(df['state'])\n",
    "\n",
    "\n",
    "#Importing a Library to handle the category variable"
   ]
  },
  {
   "cell_type": "markdown",
   "id": "6ff4fc3f",
   "metadata": {},
   "source": [
    "*We transform the catgeorical data to Numeric*"
   ]
  },
  {
   "cell_type": "code",
   "execution_count": 31,
   "id": "d81f6add",
   "metadata": {},
   "outputs": [
    {
     "data": {
      "text/html": [
       "<div>\n",
       "<style scoped>\n",
       "    .dataframe tbody tr th:only-of-type {\n",
       "        vertical-align: middle;\n",
       "    }\n",
       "\n",
       "    .dataframe tbody tr th {\n",
       "        vertical-align: top;\n",
       "    }\n",
       "\n",
       "    .dataframe thead th {\n",
       "        text-align: right;\n",
       "    }\n",
       "</style>\n",
       "<table border=\"1\" class=\"dataframe\">\n",
       "  <thead>\n",
       "    <tr style=\"text-align: right;\">\n",
       "      <th></th>\n",
       "      <th>bedrooms</th>\n",
       "      <th>bathrooms</th>\n",
       "      <th>toilets</th>\n",
       "      <th>parking_space</th>\n",
       "      <th>title</th>\n",
       "      <th>town</th>\n",
       "      <th>state</th>\n",
       "      <th>price</th>\n",
       "    </tr>\n",
       "  </thead>\n",
       "  <tbody>\n",
       "    <tr>\n",
       "      <th>0</th>\n",
       "      <td>6.0</td>\n",
       "      <td>5.0</td>\n",
       "      <td>5.0</td>\n",
       "      <td>4.0</td>\n",
       "      <td>2</td>\n",
       "      <td>127</td>\n",
       "      <td>1</td>\n",
       "      <td>450000000.0</td>\n",
       "    </tr>\n",
       "    <tr>\n",
       "      <th>1</th>\n",
       "      <td>4.0</td>\n",
       "      <td>5.0</td>\n",
       "      <td>5.0</td>\n",
       "      <td>4.0</td>\n",
       "      <td>6</td>\n",
       "      <td>110</td>\n",
       "      <td>1</td>\n",
       "      <td>800000000.0</td>\n",
       "    </tr>\n",
       "    <tr>\n",
       "      <th>2</th>\n",
       "      <td>4.0</td>\n",
       "      <td>5.0</td>\n",
       "      <td>5.0</td>\n",
       "      <td>4.0</td>\n",
       "      <td>2</td>\n",
       "      <td>122</td>\n",
       "      <td>17</td>\n",
       "      <td>120000000.0</td>\n",
       "    </tr>\n",
       "    <tr>\n",
       "      <th>3</th>\n",
       "      <td>4.0</td>\n",
       "      <td>4.0</td>\n",
       "      <td>5.0</td>\n",
       "      <td>6.0</td>\n",
       "      <td>2</td>\n",
       "      <td>10</td>\n",
       "      <td>17</td>\n",
       "      <td>40000000.0</td>\n",
       "    </tr>\n",
       "    <tr>\n",
       "      <th>4</th>\n",
       "      <td>4.0</td>\n",
       "      <td>4.0</td>\n",
       "      <td>5.0</td>\n",
       "      <td>2.0</td>\n",
       "      <td>4</td>\n",
       "      <td>122</td>\n",
       "      <td>17</td>\n",
       "      <td>75000000.0</td>\n",
       "    </tr>\n",
       "  </tbody>\n",
       "</table>\n",
       "</div>"
      ],
      "text/plain": [
       "   bedrooms  bathrooms  toilets  parking_space  title  town  state  \\\n",
       "0       6.0        5.0      5.0            4.0      2   127      1   \n",
       "1       4.0        5.0      5.0            4.0      6   110      1   \n",
       "2       4.0        5.0      5.0            4.0      2   122     17   \n",
       "3       4.0        4.0      5.0            6.0      2    10     17   \n",
       "4       4.0        4.0      5.0            2.0      4   122     17   \n",
       "\n",
       "         price  \n",
       "0  450000000.0  \n",
       "1  800000000.0  \n",
       "2  120000000.0  \n",
       "3   40000000.0  \n",
       "4   75000000.0  "
      ]
     },
     "execution_count": 31,
     "metadata": {},
     "output_type": "execute_result"
    }
   ],
   "source": [
    "df.head()"
   ]
  },
  {
   "cell_type": "code",
   "execution_count": 32,
   "id": "bf22b7c5",
   "metadata": {},
   "outputs": [
    {
     "data": {
      "text/plain": [
       "count    2.432600e+04\n",
       "mean     3.013802e+08\n",
       "std      1.220403e+10\n",
       "min      9.000000e+04\n",
       "25%      5.200000e+07\n",
       "50%      8.500000e+07\n",
       "75%      1.600000e+08\n",
       "max      1.800000e+12\n",
       "Name: price, dtype: float64"
      ]
     },
     "execution_count": 32,
     "metadata": {},
     "output_type": "execute_result"
    }
   ],
   "source": [
    "df['price'].describe()"
   ]
  },
  {
   "cell_type": "markdown",
   "id": "e8fc7a68",
   "metadata": {},
   "source": [
    "STatistis description of the Prrice columns"
   ]
  },
  {
   "cell_type": "code",
   "execution_count": 33,
   "id": "ea900ac8",
   "metadata": {},
   "outputs": [
    {
     "data": {
      "text/plain": [
       "<AxesSubplot:>"
      ]
     },
     "execution_count": 33,
     "metadata": {},
     "output_type": "execute_result"
    },
    {
     "data": {
      "image/png": "[encoded data removed]",
      "text/plain": [
       "<Figure size 640x480 with 1 Axes>"
      ]
     },
     "metadata": {},
     "output_type": "display_data"
    }
   ],
   "source": [
    "df['price'].plot.box(vert=False)\n",
    "\n",
    "#using boxplot to plot out the range values "
   ]
  },
  {
   "cell_type": "code",
   "execution_count": 34,
   "id": "388fd086",
   "metadata": {},
   "outputs": [],
   "source": [
    "#Excessive values.\n",
    "# we need to Take care of the  Excessive values firsst\n",
    "\n",
    "def excessive_values(data,columns):\n",
    "    q1=df[columns].quantile(.25)\n",
    "    q3=df[columns].quantile(.75)\n",
    "    IQR=q3-q1\n",
    "    lb=q1-(1.5*IQR)\n",
    "    up=q3+(1.5*IQR)\n",
    "    ls=df.index[(df[columns]<lb)|(df[columns]>up)]\n",
    "    return ls\n",
    "features=['price']\n",
    "index_list=[]\n",
    "for col in features:\n",
    "    index_list.extend(excessive_values(df,col))\n",
    "index_list=sorted(set(index_list))\n",
    "before_remove=df.shape"
   ]
  },
  {
   "cell_type": "code",
   "execution_count": 35,
   "id": "9fa832f7",
   "metadata": {},
   "outputs": [
    {
     "name": "stdout",
     "output_type": "stream",
     "text": [
      "Shape of data before removing outliers : (24326, 8)\n",
      "Shape of data after remove : (21768, 8)\n"
     ]
    }
   ],
   "source": [
    "df =df.drop(index_list)\n",
    "after_remove = df.shape\n",
    "\n",
    "print(f'''Shape of data before removing outliers : {before_remove}\n",
    "Shape of data after remove : {after_remove}''')"
   ]
  },
  {
   "cell_type": "code",
   "execution_count": 36,
   "id": "b45d5d5f",
   "metadata": {},
   "outputs": [
    {
     "data": {
      "text/plain": [
       "(21768, 8)"
      ]
     },
     "execution_count": 36,
     "metadata": {},
     "output_type": "execute_result"
    }
   ],
   "source": [
    "#getting the new shape of the data\n",
    "\n",
    "df.shape"
   ]
  },
  {
   "cell_type": "code",
   "execution_count": 37,
   "id": "b8f8ad91",
   "metadata": {},
   "outputs": [
    {
     "data": {
      "text/plain": [
       "<AxesSubplot:>"
      ]
     },
     "execution_count": 37,
     "metadata": {},
     "output_type": "execute_result"
    },
    {
     "data": {
      "image/png": "[encoded data removed]",
      "text/plain": [
       "<Figure size 640x480 with 1 Axes>"
      ]
     },
     "metadata": {},
     "output_type": "display_data"
    }
   ],
   "source": [
    "#let plot oout the New look\n",
    "\n",
    "df['price'].plot.box(vert=False)"
   ]
  },
  {
   "cell_type": "markdown",
   "id": "86f3c94a",
   "metadata": {},
   "source": [
    "*Much Better Let Work With this*"
   ]
  },
  {
   "cell_type": "code",
   "execution_count": 38,
   "id": "74dff948",
   "metadata": {},
   "outputs": [],
   "source": [
    "#importing the Library for regression\n",
    "\n",
    "from sklearn.model_selection import train_test_split\n",
    "from sklearn.linear_model import LinearRegression\n",
    "from sklearn.neighbors import KNeighborsRegressor\n",
    "from sklearn.svm import SVR\n",
    "from sklearn.tree import DecisionTreeRegressor"
   ]
  },
  {
   "cell_type": "code",
   "execution_count": 39,
   "id": "81f33769",
   "metadata": {},
   "outputs": [
    {
     "name": "stderr",
     "output_type": "stream",
     "text": [
      "C:\\Users\\HP\\AppData\\Local\\Temp\\ipykernel_17464\\1304639759.py:3: FutureWarning: In a future version of pandas all arguments of DataFrame.drop except for the argument 'labels' will be keyword-only.\n",
      "  X=df.drop('price',1)\n"
     ]
    }
   ],
   "source": [
    "#assigning The target and features values\n",
    "\n",
    "X=df.drop('price',1)\n",
    "\n",
    "y=df['price']"
   ]
  },
  {
   "cell_type": "code",
   "execution_count": 40,
   "id": "62dc53c9",
   "metadata": {},
   "outputs": [],
   "source": [
    "#splitting our Data into train_test_Split but in cross_validation techniques\n",
    "\n",
    "X_train, X_other, y_train, y_other = train_test_split(X, y, test_size=0.2, random_state=101)\n",
    "X_eval, X_test, y_eval, y_test = train_test_split(X_other, y_other, test_size=0.5, random_state=101)"
   ]
  },
  {
   "cell_type": "code",
   "execution_count": 41,
   "id": "4fc4a36d",
   "metadata": {},
   "outputs": [],
   "source": [
    "#instanciating The The each model\n",
    "\n",
    "\n",
    "models=[]\n",
    "models.append(('LinearR',LinearRegression()))\n",
    "models.append(('KNeig',KNeighborsRegressor()))\n",
    "models.append(('SVR',SVR()))\n",
    "models.append(('DTR',DecisionTreeRegressor()))"
   ]
  },
  {
   "cell_type": "code",
   "execution_count": 42,
   "id": "f7f6e494",
   "metadata": {},
   "outputs": [],
   "source": [
    "from sklearn.model_selection import cross_val_score"
   ]
  },
  {
   "cell_type": "code",
   "execution_count": 43,
   "id": "cb63beba",
   "metadata": {},
   "outputs": [
    {
     "name": "stdout",
     "output_type": "stream",
     "text": [
      "\u001b[31m LinearR : -3733301820757749.500000 (113686403856326.687500)\n",
      "\u001b[31m KNeig : -2611505673368211.000000 (16616192682065.763672)\n",
      "\u001b[31m SVR : -5413294062585598.000000 (98861245250865.015625)\n",
      "\u001b[31m DTR : -2880638447017487.500000 (81174146999162.265625)\n"
     ]
    }
   ],
   "source": [
    "#then using the cross_validation_method by using the for loop to bring the model together.\n",
    "\n",
    "results=[]\n",
    "names=[]\n",
    "scoring='neg_mean_squared_error'\n",
    "\n",
    "for name, model in models:\n",
    "    cv_result=cross_val_score(model,X_train,y_train,cv=5,scoring=scoring)\n",
    "    results.append(cv_result)\n",
    "    names.append(name)\n",
    "    delivery='%s : %f (%f)'%(name,cv_result.mean(),cv_result.std())\n",
    "    print(Fore.RED,delivery)"
   ]
  },
  {
   "cell_type": "code",
   "execution_count": 44,
   "id": "2cfe692d",
   "metadata": {},
   "outputs": [
    {
     "data": {
      "text/plain": [
       "[Text(1, 0, 'LinearR'),\n",
       " Text(2, 0, 'KNeig'),\n",
       " Text(3, 0, 'SVR'),\n",
       " Text(4, 0, 'DTR')]"
      ]
     },
     "execution_count": 44,
     "metadata": {},
     "output_type": "execute_result"
    },
    {
     "data": {
      "image/png": "[encoded data removed]",
      "text/plain": [
       "<Figure size 640x480 with 1 Axes>"
      ]
     },
     "metadata": {},
     "output_type": "display_data"
    }
   ],
   "source": [
    "#plot out each of the model scores alggorithm \n",
    "\n",
    "\n",
    "fig=plt.figure()\n",
    "fig.suptitle('Algorithm Comparison')\n",
    "ax=fig.add_subplot(111)\n",
    "plt.boxplot(results)\n",
    "ax.set_xticklabels(names)"
   ]
  },
  {
   "cell_type": "markdown",
   "id": "4b87b0fc",
   "metadata": {},
   "source": [
    "*LEt check for the Error Rate*"
   ]
  },
  {
   "cell_type": "code",
   "execution_count": 46,
   "id": "58907314",
   "metadata": {},
   "outputs": [],
   "source": [
    "from sklearn.metrics import mean_absolute_error,mean_squared_error,r2_score\n",
    "\n",
    "#Importing the error_rate library"
   ]
  },
  {
   "cell_type": "markdown",
   "id": "31b355a4",
   "metadata": {},
   "source": [
    "*It seems Like the KNeig perform better*"
   ]
  },
  {
   "cell_type": "code",
   "execution_count": 47,
   "id": "98504a1f",
   "metadata": {},
   "outputs": [
    {
     "name": "stdout",
     "output_type": "stream",
     "text": [
      "\u001b[31m Mean Absolute Error 69884147.8141479\n",
      "\u001b[31m Root Squared -0.605035609831875\n",
      "\u001b[31m Mean Absolute Error 34915033.45080385\n",
      "\u001b[31m Root Squared 0.45782264582263643\n"
     ]
    }
   ],
   "source": [
    "#plotting it oout with the error rate\n",
    "\n",
    "model1=KNeighborsRegressor()\n",
    "model1.fit(X_train,y_train)\n",
    "y_pred=model1.predict(X_eval)\n",
    "print(Fore.RED,'Mean Absolute Error',mean_absolute_error(y_test,y_pred))\n",
    "print(Fore.RED,'Root Squared',r2_score(y_test,y_pred))\n",
    "y_preds=model1.predict(X_test)\n",
    "print(Fore.RED,'Mean Absolute Error',mean_absolute_error(y_test,y_preds))\n",
    "print(Fore.RED,'Root Squared',r2_score(y_test,y_preds))"
   ]
  },
  {
   "cell_type": "markdown",
   "id": "db01ce6b",
   "metadata": {},
   "source": [
    "*having check the errorate of model performance is not what we can use*"
   ]
  },
  {
   "cell_type": "code",
   "execution_count": 48,
   "id": "9ef130db",
   "metadata": {},
   "outputs": [
    {
     "name": "stdout",
     "output_type": "stream",
     "text": [
      "\u001b[31m Mean Absolute Error 71774134.00874737\n",
      "\u001b[31m Root Squared -0.661544035686199\n"
     ]
    }
   ],
   "source": [
    "#let used The Second model that is decisionTreesRegression\n",
    "\n",
    "\n",
    "model2=DecisionTreeRegressor(max_depth=10000)\n",
    "model2.fit(X_train,y_train)\n",
    "test_pred=model2.predict(X_eval)\n",
    "print(Fore.RED,'Mean Absolute Error',mean_absolute_error(y_test,test_pred))\n",
    "print(Fore.RED,'Root Squared',r2_score(y_test,test_pred))"
   ]
  },
  {
   "cell_type": "code",
   "execution_count": 50,
   "id": "119e2412",
   "metadata": {},
   "outputs": [
    {
     "name": "stdout",
     "output_type": "stream",
     "text": [
      "\u001b[31m Mean Absolute Error 34570772.75684943\n",
      "\u001b[31m Root Squared 0.440671646244025\n"
     ]
    }
   ],
   "source": [
    "#Checking the errorate \n",
    "\n",
    "test_pred=model2.predict(X_test)\n",
    "print(Fore.RED,'Mean Absolute Error',mean_absolute_error(y_test,test_pred))\n",
    "print(Fore.RED,'Root Squared',r2_score(y_test,test_pred))"
   ]
  },
  {
   "cell_type": "markdown",
   "id": "63d935b1",
   "metadata": {},
   "source": [
    "*Not good* "
   ]
  },
  {
   "cell_type": "code",
   "execution_count": 51,
   "id": "80614e84",
   "metadata": {},
   "outputs": [
    {
     "data": {
      "text/plain": [
       "<AxesSubplot:>"
      ]
     },
     "execution_count": 51,
     "metadata": {},
     "output_type": "execute_result"
    },
    {
     "data": {
      "image/png": "[encoded data removed]",
      "text/plain": [
       "<Figure size 640x480 with 2 Axes>"
      ]
     },
     "metadata": {},
     "output_type": "display_data"
    }
   ],
   "source": [
    "sns.heatmap(df.corr(),annot=True,cmap='mako_r')"
   ]
  },
  {
   "cell_type": "markdown",
   "id": "67c76772",
   "metadata": {},
   "source": [
    "*I notice a a multicollinearity, good thing is for us to Take it off and try the Ensemble Algorithm*"
   ]
  },
  {
   "cell_type": "code",
   "execution_count": 52,
   "id": "35d85006",
   "metadata": {},
   "outputs": [],
   "source": [
    "#importing the Ensemble model and standardscaler and inclduing the pipepline\n",
    "\n",
    "from sklearn.ensemble import BaggingRegressor,RandomForestRegressor,AdaBoostRegressor,ExtraTreesRegressor,GradientBoostingRegressor\n",
    "from sklearn.preprocessing import StandardScaler\n",
    "from sklearn.pipeline import Pipeline"
   ]
  },
  {
   "cell_type": "code",
   "execution_count": 53,
   "id": "5a8f408e",
   "metadata": {},
   "outputs": [],
   "source": [
    "#Instanciating the pipeline inputing combining the standard scaler and The model \n",
    "\n",
    "\n",
    "Models=[]\n",
    "Models.append(('SclarBG',Pipeline([('scaler', StandardScaler()),('BAG',BaggingRegressor())])))\n",
    "Models.append(('ScalerRAR',Pipeline([('scaler',StandardScaler()),('RAR',RandomForestRegressor())])))\n",
    "Models.append(('ScalerADA',Pipeline([('Scaler',StandardScaler()),('ADA',AdaBoostRegressor())])))\n",
    "Models.append(('ScalerEXT',Pipeline([('Scaler',StandardScaler()),('EXT',ExtraTreesRegressor())])))\n",
    "Models.append(('ScalerGBR',Pipeline([('Scaler',StandardScaler()),('GBR',GradientBoostingRegressor())])))"
   ]
  },
  {
   "cell_type": "code",
   "execution_count": 54,
   "id": "b4cb6f03",
   "metadata": {},
   "outputs": [
    {
     "name": "stdout",
     "output_type": "stream",
     "text": [
      "\u001b[31m SclarBG:-2518814318238352.500000(18250404818812.710938)\n",
      "\u001b[31m ScalerRAR:-2446674677867246.500000(23506338208624.890625)\n",
      "\u001b[31m ScalerADA:-3621153429912160.000000(213073476517122.531250)\n",
      "\u001b[31m ScalerEXT:-2536245959634590.000000(12592083084586.296875)\n",
      "\u001b[31m ScalerGBR:-2444412181774476.000000(39444130319791.992188)\n"
     ]
    }
   ],
   "source": [
    "#Creating a function\n",
    "\n",
    "outcomes=[]\n",
    "names=[]\n",
    "for name,Model in Models:\n",
    "    cv_results=cross_val_score(Model,X_train,y_train,cv=5,scoring=scoring)\n",
    "    outcomes.append(cv_results)\n",
    "    names.append(name)\n",
    "    msg='%s:%f(%f)'%(name,cv_results.mean(),cv_results.std())\n",
    "    print(Fore.RED,msg)"
   ]
  },
  {
   "cell_type": "code",
   "execution_count": 55,
   "id": "a5e5a7b3",
   "metadata": {},
   "outputs": [
    {
     "data": {
      "text/plain": [
       "[Text(1, 0, 'SclarBG'),\n",
       " Text(2, 0, 'ScalerRAR'),\n",
       " Text(3, 0, 'ScalerADA'),\n",
       " Text(4, 0, 'ScalerEXT'),\n",
       " Text(5, 0, 'ScalerGBR')]"
      ]
     },
     "execution_count": 55,
     "metadata": {},
     "output_type": "execute_result"
    },
    {
     "data": {
      "image/png": "[encoded data removed]",
      "text/plain": [
       "<Figure size 640x480 with 1 Axes>"
      ]
     },
     "metadata": {},
     "output_type": "display_data"
    }
   ],
   "source": [
    "#Plotting Out the perrformance of the model\n",
    "\n",
    "fig=plt.figure()\n",
    "fig.suptitle('Algorithm Comparison')\n",
    "ax=fig.add_subplot(111)\n",
    "plt.boxplot(outcomes)\n",
    "ax.set_xticklabels(names)"
   ]
  },
  {
   "cell_type": "code",
   "execution_count": 56,
   "id": "95901ba3",
   "metadata": {},
   "outputs": [
    {
     "name": "stdout",
     "output_type": "stream",
     "text": [
      "\u001b[31m Mean Absolute Error 70464471.35322638\n",
      "\u001b[31m Root Squared -0.5994022834925348\n"
     ]
    }
   ],
   "source": [
    "#Using The Randomregressor\n",
    "\n",
    "model3=RandomForestRegressor()\n",
    "model3.fit(X_train,y_train)\n",
    "test_prediction=model3.predict(X_eval)\n",
    "print(Fore.RED,'Mean Absolute Error',mean_absolute_error(y_test,test_prediction))\n",
    "print(Fore.RED,'Root Squared',r2_score(y_test,test_prediction))"
   ]
  },
  {
   "cell_type": "markdown",
   "id": "28ba59cc",
   "metadata": {},
   "source": [
    "*till The Error rate Is Badd*"
   ]
  },
  {
   "cell_type": "code",
   "execution_count": 57,
   "id": "666db57e",
   "metadata": {},
   "outputs": [
    {
     "name": "stdout",
     "output_type": "stream",
     "text": [
      "Shape of data before removing outliers : (21768, 8)\n",
      "Shape of data after remove : (20618, 8)\n"
     ]
    }
   ],
   "source": [
    "#let Rehandle the Excessive Values\n",
    "\n",
    "\n",
    "def excessive_values(data,columns):\n",
    "    q1=df[columns].quantile(.25)\n",
    "    q3=df[columns].quantile(.75)\n",
    "    IQR=q3-q1\n",
    "    lb=q1-(1.5*IQR)\n",
    "    up=q3+(1.5*IQR)\n",
    "    ls=df.index[(df[columns]<lb)|(df[columns]>up)]\n",
    "    return ls\n",
    "features=['price']\n",
    "index_list=[]\n",
    "for col in features:\n",
    "    index_list.extend(excessive_values(df,col))\n",
    "index_list=sorted(set(index_list))\n",
    "before_remove=df.shape\n",
    "df =df.drop(index_list)\n",
    "after_remove = df.shape\n",
    "\n",
    "print(f'''Shape of data before removing outliers : {before_remove}\n",
    "Shape of data after remove : {after_remove}''')"
   ]
  },
  {
   "cell_type": "code",
   "execution_count": 58,
   "id": "0733132a",
   "metadata": {},
   "outputs": [
    {
     "data": {
      "text/plain": [
       "<AxesSubplot:>"
      ]
     },
     "execution_count": 58,
     "metadata": {},
     "output_type": "execute_result"
    },
    {
     "data": {
      "image/png": "[encoded data removed]",
      "text/plain": [
       "<Figure size 640x480 with 1 Axes>"
      ]
     },
     "metadata": {},
     "output_type": "display_data"
    }
   ],
   "source": [
    "#let plot\n",
    "\n",
    "df['price'].plot.box(vert=False)"
   ]
  },
  {
   "cell_type": "markdown",
   "id": "9b163c23",
   "metadata": {},
   "source": [
    "*Much Better*"
   ]
  },
  {
   "cell_type": "code",
   "execution_count": 59,
   "id": "69d00604",
   "metadata": {},
   "outputs": [
    {
     "data": {
      "text/plain": [
       "count    2.061800e+04\n",
       "mean     8.823353e+07\n",
       "std      5.666506e+07\n",
       "min      9.000000e+04\n",
       "25%      4.500000e+07\n",
       "50%      7.500000e+07\n",
       "75%      1.250000e+08\n",
       "max      2.500000e+08\n",
       "Name: price, dtype: float64"
      ]
     },
     "execution_count": 59,
     "metadata": {},
     "output_type": "execute_result"
    }
   ],
   "source": [
    "df['price'].describe()"
   ]
  },
  {
   "cell_type": "code",
   "execution_count": 61,
   "id": "ff223f1c",
   "metadata": {},
   "outputs": [
    {
     "data": {
      "text/plain": [
       "249910000.0"
      ]
     },
     "execution_count": 61,
     "metadata": {},
     "output_type": "execute_result"
    }
   ],
   "source": [
    "#checking the Mean_absolute differenes from the maximum - minimum\n",
    "\n",
    "np.ptp(df['price'])"
   ]
  },
  {
   "cell_type": "markdown",
   "id": "53203908",
   "metadata": {},
   "source": [
    "*The Differences is till Much*"
   ]
  },
  {
   "cell_type": "code",
   "execution_count": 62,
   "id": "4391f66f",
   "metadata": {},
   "outputs": [
    {
     "data": {
      "text/html": [
       "<div>\n",
       "<style scoped>\n",
       "    .dataframe tbody tr th:only-of-type {\n",
       "        vertical-align: middle;\n",
       "    }\n",
       "\n",
       "    .dataframe tbody tr th {\n",
       "        vertical-align: top;\n",
       "    }\n",
       "\n",
       "    .dataframe thead th {\n",
       "        text-align: right;\n",
       "    }\n",
       "</style>\n",
       "<table border=\"1\" class=\"dataframe\">\n",
       "  <thead>\n",
       "    <tr style=\"text-align: right;\">\n",
       "      <th></th>\n",
       "      <th>bedrooms</th>\n",
       "      <th>bathrooms</th>\n",
       "      <th>toilets</th>\n",
       "      <th>parking_space</th>\n",
       "      <th>title</th>\n",
       "      <th>town</th>\n",
       "      <th>state</th>\n",
       "      <th>price</th>\n",
       "    </tr>\n",
       "  </thead>\n",
       "  <tbody>\n",
       "    <tr>\n",
       "      <th>2</th>\n",
       "      <td>4.0</td>\n",
       "      <td>5.0</td>\n",
       "      <td>5.0</td>\n",
       "      <td>4.0</td>\n",
       "      <td>2</td>\n",
       "      <td>122</td>\n",
       "      <td>17</td>\n",
       "      <td>120000000.0</td>\n",
       "    </tr>\n",
       "    <tr>\n",
       "      <th>3</th>\n",
       "      <td>4.0</td>\n",
       "      <td>4.0</td>\n",
       "      <td>5.0</td>\n",
       "      <td>6.0</td>\n",
       "      <td>2</td>\n",
       "      <td>10</td>\n",
       "      <td>17</td>\n",
       "      <td>40000000.0</td>\n",
       "    </tr>\n",
       "    <tr>\n",
       "      <th>4</th>\n",
       "      <td>4.0</td>\n",
       "      <td>4.0</td>\n",
       "      <td>5.0</td>\n",
       "      <td>2.0</td>\n",
       "      <td>4</td>\n",
       "      <td>122</td>\n",
       "      <td>17</td>\n",
       "      <td>75000000.0</td>\n",
       "    </tr>\n",
       "    <tr>\n",
       "      <th>6</th>\n",
       "      <td>4.0</td>\n",
       "      <td>5.0</td>\n",
       "      <td>5.0</td>\n",
       "      <td>4.0</td>\n",
       "      <td>2</td>\n",
       "      <td>122</td>\n",
       "      <td>17</td>\n",
       "      <td>65000000.0</td>\n",
       "    </tr>\n",
       "    <tr>\n",
       "      <th>7</th>\n",
       "      <td>2.0</td>\n",
       "      <td>2.0</td>\n",
       "      <td>3.0</td>\n",
       "      <td>6.0</td>\n",
       "      <td>1</td>\n",
       "      <td>46</td>\n",
       "      <td>17</td>\n",
       "      <td>12000000.0</td>\n",
       "    </tr>\n",
       "  </tbody>\n",
       "</table>\n",
       "</div>"
      ],
      "text/plain": [
       "   bedrooms  bathrooms  toilets  parking_space  title  town  state  \\\n",
       "2       4.0        5.0      5.0            4.0      2   122     17   \n",
       "3       4.0        4.0      5.0            6.0      2    10     17   \n",
       "4       4.0        4.0      5.0            2.0      4   122     17   \n",
       "6       4.0        5.0      5.0            4.0      2   122     17   \n",
       "7       2.0        2.0      3.0            6.0      1    46     17   \n",
       "\n",
       "         price  \n",
       "2  120000000.0  \n",
       "3   40000000.0  \n",
       "4   75000000.0  \n",
       "6   65000000.0  \n",
       "7   12000000.0  "
      ]
     },
     "execution_count": 62,
     "metadata": {},
     "output_type": "execute_result"
    }
   ],
   "source": [
    "df.head()"
   ]
  },
  {
   "cell_type": "code",
   "execution_count": 63,
   "id": "4ec57a68",
   "metadata": {},
   "outputs": [
    {
     "data": {
      "text/html": [
       "<div>\n",
       "<style scoped>\n",
       "    .dataframe tbody tr th:only-of-type {\n",
       "        vertical-align: middle;\n",
       "    }\n",
       "\n",
       "    .dataframe tbody tr th {\n",
       "        vertical-align: top;\n",
       "    }\n",
       "\n",
       "    .dataframe thead th {\n",
       "        text-align: right;\n",
       "    }\n",
       "</style>\n",
       "<table border=\"1\" class=\"dataframe\">\n",
       "  <thead>\n",
       "    <tr style=\"text-align: right;\">\n",
       "      <th></th>\n",
       "      <th>2693</th>\n",
       "      <th>26</th>\n",
       "    </tr>\n",
       "  </thead>\n",
       "  <tbody>\n",
       "    <tr>\n",
       "      <th>bedrooms</th>\n",
       "      <td>2.0</td>\n",
       "      <td>5.0</td>\n",
       "    </tr>\n",
       "    <tr>\n",
       "      <th>bathrooms</th>\n",
       "      <td>3.0</td>\n",
       "      <td>6.0</td>\n",
       "    </tr>\n",
       "    <tr>\n",
       "      <th>toilets</th>\n",
       "      <td>3.0</td>\n",
       "      <td>5.0</td>\n",
       "    </tr>\n",
       "    <tr>\n",
       "      <th>parking_space</th>\n",
       "      <td>4.0</td>\n",
       "      <td>4.0</td>\n",
       "    </tr>\n",
       "    <tr>\n",
       "      <th>title</th>\n",
       "      <td>6.0</td>\n",
       "      <td>2.0</td>\n",
       "    </tr>\n",
       "    <tr>\n",
       "      <th>town</th>\n",
       "      <td>66.0</td>\n",
       "      <td>122.0</td>\n",
       "    </tr>\n",
       "    <tr>\n",
       "      <th>state</th>\n",
       "      <td>17.0</td>\n",
       "      <td>17.0</td>\n",
       "    </tr>\n",
       "    <tr>\n",
       "      <th>price</th>\n",
       "      <td>90000.0</td>\n",
       "      <td>250000000.0</td>\n",
       "    </tr>\n",
       "  </tbody>\n",
       "</table>\n",
       "</div>"
      ],
      "text/plain": [
       "                  2693         26  \n",
       "bedrooms           2.0          5.0\n",
       "bathrooms          3.0          6.0\n",
       "toilets            3.0          5.0\n",
       "parking_space      4.0          4.0\n",
       "title              6.0          2.0\n",
       "town              66.0        122.0\n",
       "state             17.0         17.0\n",
       "price          90000.0  250000000.0"
      ]
     },
     "execution_count": 63,
     "metadata": {},
     "output_type": "execute_result"
    }
   ],
   "source": [
    "min_('price')"
   ]
  },
  {
   "cell_type": "code",
   "execution_count": 65,
   "id": "4a328658",
   "metadata": {},
   "outputs": [],
   "source": [
    "df['price']=df['price'].astype(int)"
   ]
  },
  {
   "cell_type": "code",
   "execution_count": 66,
   "id": "151bfc46",
   "metadata": {},
   "outputs": [
    {
     "data": {
      "text/html": [
       "<div>\n",
       "<style scoped>\n",
       "    .dataframe tbody tr th:only-of-type {\n",
       "        vertical-align: middle;\n",
       "    }\n",
       "\n",
       "    .dataframe tbody tr th {\n",
       "        vertical-align: top;\n",
       "    }\n",
       "\n",
       "    .dataframe thead th {\n",
       "        text-align: right;\n",
       "    }\n",
       "</style>\n",
       "<table border=\"1\" class=\"dataframe\">\n",
       "  <thead>\n",
       "    <tr style=\"text-align: right;\">\n",
       "      <th></th>\n",
       "      <th>2693</th>\n",
       "      <th>26</th>\n",
       "    </tr>\n",
       "  </thead>\n",
       "  <tbody>\n",
       "    <tr>\n",
       "      <th>bedrooms</th>\n",
       "      <td>2.0</td>\n",
       "      <td>5.0</td>\n",
       "    </tr>\n",
       "    <tr>\n",
       "      <th>bathrooms</th>\n",
       "      <td>3.0</td>\n",
       "      <td>6.0</td>\n",
       "    </tr>\n",
       "    <tr>\n",
       "      <th>toilets</th>\n",
       "      <td>3.0</td>\n",
       "      <td>5.0</td>\n",
       "    </tr>\n",
       "    <tr>\n",
       "      <th>parking_space</th>\n",
       "      <td>4.0</td>\n",
       "      <td>4.0</td>\n",
       "    </tr>\n",
       "    <tr>\n",
       "      <th>title</th>\n",
       "      <td>6.0</td>\n",
       "      <td>2.0</td>\n",
       "    </tr>\n",
       "    <tr>\n",
       "      <th>town</th>\n",
       "      <td>66.0</td>\n",
       "      <td>122.0</td>\n",
       "    </tr>\n",
       "    <tr>\n",
       "      <th>state</th>\n",
       "      <td>17.0</td>\n",
       "      <td>17.0</td>\n",
       "    </tr>\n",
       "    <tr>\n",
       "      <th>price</th>\n",
       "      <td>90000.0</td>\n",
       "      <td>250000000.0</td>\n",
       "    </tr>\n",
       "  </tbody>\n",
       "</table>\n",
       "</div>"
      ],
      "text/plain": [
       "                  2693         26  \n",
       "bedrooms           2.0          5.0\n",
       "bathrooms          3.0          6.0\n",
       "toilets            3.0          5.0\n",
       "parking_space      4.0          4.0\n",
       "title              6.0          2.0\n",
       "town              66.0        122.0\n",
       "state             17.0         17.0\n",
       "price          90000.0  250000000.0"
      ]
     },
     "execution_count": 66,
     "metadata": {},
     "output_type": "execute_result"
    }
   ],
   "source": [
    "min_('price')"
   ]
  },
  {
   "cell_type": "code",
   "execution_count": 67,
   "id": "2d88e00e",
   "metadata": {},
   "outputs": [],
   "source": [
    "#let do some featuures engneer to this \n",
    "\n",
    "df['Score_price']=pd.cut(x=df['price'],bins=[-np.infty,1000000,10000000,np.infty],labels=['low','standard','high'])"
   ]
  },
  {
   "cell_type": "code",
   "execution_count": 68,
   "id": "528953b2",
   "metadata": {},
   "outputs": [
    {
     "data": {
      "text/html": [
       "<div>\n",
       "<style scoped>\n",
       "    .dataframe tbody tr th:only-of-type {\n",
       "        vertical-align: middle;\n",
       "    }\n",
       "\n",
       "    .dataframe tbody tr th {\n",
       "        vertical-align: top;\n",
       "    }\n",
       "\n",
       "    .dataframe thead th {\n",
       "        text-align: right;\n",
       "    }\n",
       "</style>\n",
       "<table border=\"1\" class=\"dataframe\">\n",
       "  <thead>\n",
       "    <tr style=\"text-align: right;\">\n",
       "      <th></th>\n",
       "      <th>bedrooms</th>\n",
       "      <th>bathrooms</th>\n",
       "      <th>toilets</th>\n",
       "      <th>parking_space</th>\n",
       "      <th>title</th>\n",
       "      <th>town</th>\n",
       "      <th>state</th>\n",
       "      <th>price</th>\n",
       "      <th>Score_price</th>\n",
       "    </tr>\n",
       "  </thead>\n",
       "  <tbody>\n",
       "    <tr>\n",
       "      <th>2</th>\n",
       "      <td>4.0</td>\n",
       "      <td>5.0</td>\n",
       "      <td>5.0</td>\n",
       "      <td>4.0</td>\n",
       "      <td>2</td>\n",
       "      <td>122</td>\n",
       "      <td>17</td>\n",
       "      <td>120000000</td>\n",
       "      <td>high</td>\n",
       "    </tr>\n",
       "    <tr>\n",
       "      <th>3</th>\n",
       "      <td>4.0</td>\n",
       "      <td>4.0</td>\n",
       "      <td>5.0</td>\n",
       "      <td>6.0</td>\n",
       "      <td>2</td>\n",
       "      <td>10</td>\n",
       "      <td>17</td>\n",
       "      <td>40000000</td>\n",
       "      <td>high</td>\n",
       "    </tr>\n",
       "    <tr>\n",
       "      <th>4</th>\n",
       "      <td>4.0</td>\n",
       "      <td>4.0</td>\n",
       "      <td>5.0</td>\n",
       "      <td>2.0</td>\n",
       "      <td>4</td>\n",
       "      <td>122</td>\n",
       "      <td>17</td>\n",
       "      <td>75000000</td>\n",
       "      <td>high</td>\n",
       "    </tr>\n",
       "    <tr>\n",
       "      <th>6</th>\n",
       "      <td>4.0</td>\n",
       "      <td>5.0</td>\n",
       "      <td>5.0</td>\n",
       "      <td>4.0</td>\n",
       "      <td>2</td>\n",
       "      <td>122</td>\n",
       "      <td>17</td>\n",
       "      <td>65000000</td>\n",
       "      <td>high</td>\n",
       "    </tr>\n",
       "    <tr>\n",
       "      <th>7</th>\n",
       "      <td>2.0</td>\n",
       "      <td>2.0</td>\n",
       "      <td>3.0</td>\n",
       "      <td>6.0</td>\n",
       "      <td>1</td>\n",
       "      <td>46</td>\n",
       "      <td>17</td>\n",
       "      <td>12000000</td>\n",
       "      <td>high</td>\n",
       "    </tr>\n",
       "  </tbody>\n",
       "</table>\n",
       "</div>"
      ],
      "text/plain": [
       "   bedrooms  bathrooms  toilets  parking_space  title  town  state      price  \\\n",
       "2       4.0        5.0      5.0            4.0      2   122     17  120000000   \n",
       "3       4.0        4.0      5.0            6.0      2    10     17   40000000   \n",
       "4       4.0        4.0      5.0            2.0      4   122     17   75000000   \n",
       "6       4.0        5.0      5.0            4.0      2   122     17   65000000   \n",
       "7       2.0        2.0      3.0            6.0      1    46     17   12000000   \n",
       "\n",
       "  Score_price  \n",
       "2        high  \n",
       "3        high  \n",
       "4        high  \n",
       "6        high  \n",
       "7        high  "
      ]
     },
     "execution_count": 68,
     "metadata": {},
     "output_type": "execute_result"
    }
   ],
   "source": [
    "df.head()"
   ]
  },
  {
   "cell_type": "code",
   "execution_count": 69,
   "id": "2595b575",
   "metadata": {},
   "outputs": [
    {
     "data": {
      "text/plain": [
       "high        20097\n",
       "standard      505\n",
       "low            16\n",
       "Name: Score_price, dtype: int64"
      ]
     },
     "execution_count": 69,
     "metadata": {},
     "output_type": "execute_result"
    }
   ],
   "source": [
    "#we value count\n",
    "\n",
    "df['Score_price'].value_counts()"
   ]
  },
  {
   "cell_type": "code",
   "execution_count": 70,
   "id": "5adeee0b",
   "metadata": {},
   "outputs": [
    {
     "data": {
      "text/html": [
       "<div>\n",
       "<style scoped>\n",
       "    .dataframe tbody tr th:only-of-type {\n",
       "        vertical-align: middle;\n",
       "    }\n",
       "\n",
       "    .dataframe tbody tr th {\n",
       "        vertical-align: top;\n",
       "    }\n",
       "\n",
       "    .dataframe thead th {\n",
       "        text-align: right;\n",
       "    }\n",
       "</style>\n",
       "<table border=\"1\" class=\"dataframe\">\n",
       "  <thead>\n",
       "    <tr style=\"text-align: right;\">\n",
       "      <th></th>\n",
       "      <th>bedrooms</th>\n",
       "      <th>bathrooms</th>\n",
       "      <th>toilets</th>\n",
       "      <th>parking_space</th>\n",
       "      <th>title</th>\n",
       "      <th>town</th>\n",
       "      <th>state</th>\n",
       "      <th>price</th>\n",
       "      <th>Score_price</th>\n",
       "    </tr>\n",
       "  </thead>\n",
       "  <tbody>\n",
       "    <tr>\n",
       "      <th>2385</th>\n",
       "      <td>5.0</td>\n",
       "      <td>7.0</td>\n",
       "      <td>7.0</td>\n",
       "      <td>4.0</td>\n",
       "      <td>4</td>\n",
       "      <td>130</td>\n",
       "      <td>1</td>\n",
       "      <td>110000</td>\n",
       "      <td>low</td>\n",
       "    </tr>\n",
       "    <tr>\n",
       "      <th>2449</th>\n",
       "      <td>2.0</td>\n",
       "      <td>2.0</td>\n",
       "      <td>2.0</td>\n",
       "      <td>1.0</td>\n",
       "      <td>2</td>\n",
       "      <td>20</td>\n",
       "      <td>1</td>\n",
       "      <td>462837</td>\n",
       "      <td>low</td>\n",
       "    </tr>\n",
       "    <tr>\n",
       "      <th>2693</th>\n",
       "      <td>2.0</td>\n",
       "      <td>3.0</td>\n",
       "      <td>3.0</td>\n",
       "      <td>4.0</td>\n",
       "      <td>6</td>\n",
       "      <td>66</td>\n",
       "      <td>17</td>\n",
       "      <td>90000</td>\n",
       "      <td>low</td>\n",
       "    </tr>\n",
       "    <tr>\n",
       "      <th>2810</th>\n",
       "      <td>7.0</td>\n",
       "      <td>5.0</td>\n",
       "      <td>5.0</td>\n",
       "      <td>4.0</td>\n",
       "      <td>2</td>\n",
       "      <td>91</td>\n",
       "      <td>17</td>\n",
       "      <td>350000</td>\n",
       "      <td>low</td>\n",
       "    </tr>\n",
       "    <tr>\n",
       "      <th>4176</th>\n",
       "      <td>2.0</td>\n",
       "      <td>7.0</td>\n",
       "      <td>8.0</td>\n",
       "      <td>7.0</td>\n",
       "      <td>2</td>\n",
       "      <td>97</td>\n",
       "      <td>23</td>\n",
       "      <td>500000</td>\n",
       "      <td>low</td>\n",
       "    </tr>\n",
       "    <tr>\n",
       "      <th>4782</th>\n",
       "      <td>5.0</td>\n",
       "      <td>6.0</td>\n",
       "      <td>6.0</td>\n",
       "      <td>2.0</td>\n",
       "      <td>2</td>\n",
       "      <td>10</td>\n",
       "      <td>17</td>\n",
       "      <td>1000000</td>\n",
       "      <td>low</td>\n",
       "    </tr>\n",
       "    <tr>\n",
       "      <th>6724</th>\n",
       "      <td>3.0</td>\n",
       "      <td>5.0</td>\n",
       "      <td>5.0</td>\n",
       "      <td>5.0</td>\n",
       "      <td>2</td>\n",
       "      <td>81</td>\n",
       "      <td>17</td>\n",
       "      <td>1000000</td>\n",
       "      <td>low</td>\n",
       "    </tr>\n",
       "    <tr>\n",
       "      <th>7083</th>\n",
       "      <td>5.0</td>\n",
       "      <td>5.0</td>\n",
       "      <td>6.0</td>\n",
       "      <td>4.0</td>\n",
       "      <td>2</td>\n",
       "      <td>122</td>\n",
       "      <td>17</td>\n",
       "      <td>400000</td>\n",
       "      <td>low</td>\n",
       "    </tr>\n",
       "    <tr>\n",
       "      <th>14211</th>\n",
       "      <td>2.0</td>\n",
       "      <td>2.0</td>\n",
       "      <td>3.0</td>\n",
       "      <td>3.0</td>\n",
       "      <td>0</td>\n",
       "      <td>43</td>\n",
       "      <td>17</td>\n",
       "      <td>800000</td>\n",
       "      <td>low</td>\n",
       "    </tr>\n",
       "    <tr>\n",
       "      <th>14555</th>\n",
       "      <td>4.0</td>\n",
       "      <td>4.0</td>\n",
       "      <td>5.0</td>\n",
       "      <td>4.0</td>\n",
       "      <td>4</td>\n",
       "      <td>81</td>\n",
       "      <td>17</td>\n",
       "      <td>660000</td>\n",
       "      <td>low</td>\n",
       "    </tr>\n",
       "    <tr>\n",
       "      <th>14630</th>\n",
       "      <td>2.0</td>\n",
       "      <td>2.0</td>\n",
       "      <td>3.0</td>\n",
       "      <td>4.0</td>\n",
       "      <td>0</td>\n",
       "      <td>43</td>\n",
       "      <td>17</td>\n",
       "      <td>710000</td>\n",
       "      <td>low</td>\n",
       "    </tr>\n",
       "    <tr>\n",
       "      <th>17645</th>\n",
       "      <td>7.0</td>\n",
       "      <td>7.0</td>\n",
       "      <td>8.0</td>\n",
       "      <td>6.0</td>\n",
       "      <td>2</td>\n",
       "      <td>91</td>\n",
       "      <td>17</td>\n",
       "      <td>350000</td>\n",
       "      <td>low</td>\n",
       "    </tr>\n",
       "    <tr>\n",
       "      <th>17940</th>\n",
       "      <td>7.0</td>\n",
       "      <td>5.0</td>\n",
       "      <td>5.0</td>\n",
       "      <td>4.0</td>\n",
       "      <td>2</td>\n",
       "      <td>91</td>\n",
       "      <td>17</td>\n",
       "      <td>350000</td>\n",
       "      <td>low</td>\n",
       "    </tr>\n",
       "    <tr>\n",
       "      <th>18088</th>\n",
       "      <td>3.0</td>\n",
       "      <td>3.0</td>\n",
       "      <td>4.0</td>\n",
       "      <td>3.0</td>\n",
       "      <td>0</td>\n",
       "      <td>180</td>\n",
       "      <td>17</td>\n",
       "      <td>710000</td>\n",
       "      <td>low</td>\n",
       "    </tr>\n",
       "    <tr>\n",
       "      <th>20146</th>\n",
       "      <td>2.0</td>\n",
       "      <td>2.0</td>\n",
       "      <td>3.0</td>\n",
       "      <td>4.0</td>\n",
       "      <td>1</td>\n",
       "      <td>135</td>\n",
       "      <td>20</td>\n",
       "      <td>100000</td>\n",
       "      <td>low</td>\n",
       "    </tr>\n",
       "    <tr>\n",
       "      <th>24274</th>\n",
       "      <td>2.0</td>\n",
       "      <td>5.0</td>\n",
       "      <td>5.0</td>\n",
       "      <td>4.0</td>\n",
       "      <td>3</td>\n",
       "      <td>116</td>\n",
       "      <td>1</td>\n",
       "      <td>700000</td>\n",
       "      <td>low</td>\n",
       "    </tr>\n",
       "  </tbody>\n",
       "</table>\n",
       "</div>"
      ],
      "text/plain": [
       "       bedrooms  bathrooms  toilets  parking_space  title  town  state  \\\n",
       "2385        5.0        7.0      7.0            4.0      4   130      1   \n",
       "2449        2.0        2.0      2.0            1.0      2    20      1   \n",
       "2693        2.0        3.0      3.0            4.0      6    66     17   \n",
       "2810        7.0        5.0      5.0            4.0      2    91     17   \n",
       "4176        2.0        7.0      8.0            7.0      2    97     23   \n",
       "4782        5.0        6.0      6.0            2.0      2    10     17   \n",
       "6724        3.0        5.0      5.0            5.0      2    81     17   \n",
       "7083        5.0        5.0      6.0            4.0      2   122     17   \n",
       "14211       2.0        2.0      3.0            3.0      0    43     17   \n",
       "14555       4.0        4.0      5.0            4.0      4    81     17   \n",
       "14630       2.0        2.0      3.0            4.0      0    43     17   \n",
       "17645       7.0        7.0      8.0            6.0      2    91     17   \n",
       "17940       7.0        5.0      5.0            4.0      2    91     17   \n",
       "18088       3.0        3.0      4.0            3.0      0   180     17   \n",
       "20146       2.0        2.0      3.0            4.0      1   135     20   \n",
       "24274       2.0        5.0      5.0            4.0      3   116      1   \n",
       "\n",
       "         price Score_price  \n",
       "2385    110000         low  \n",
       "2449    462837         low  \n",
       "2693     90000         low  \n",
       "2810    350000         low  \n",
       "4176    500000         low  \n",
       "4782   1000000         low  \n",
       "6724   1000000         low  \n",
       "7083    400000         low  \n",
       "14211   800000         low  \n",
       "14555   660000         low  \n",
       "14630   710000         low  \n",
       "17645   350000         low  \n",
       "17940   350000         low  \n",
       "18088   710000         low  \n",
       "20146   100000         low  \n",
       "24274   700000         low  "
      ]
     },
     "execution_count": 70,
     "metadata": {},
     "output_type": "execute_result"
    }
   ],
   "source": [
    "df.query('Score_price==\"low\"')"
   ]
  },
  {
   "cell_type": "code",
   "execution_count": 71,
   "id": "3888dacc",
   "metadata": {},
   "outputs": [],
   "source": [
    "#then we create a def function to categorize  the price tag\n",
    "\n",
    "def category(X):\n",
    "    if X=='Low':\n",
    "        return 1\n",
    "    if X=='standard':\n",
    "        return 2\n",
    "    if X=='high':\n",
    "        return 3\n",
    "    \n",
    "    \n",
    "df['Score_price']=df['Score_price'].apply(category)"
   ]
  },
  {
   "cell_type": "code",
   "execution_count": 72,
   "id": "2bcd184d",
   "metadata": {},
   "outputs": [
    {
     "data": {
      "text/html": [
       "<div>\n",
       "<style scoped>\n",
       "    .dataframe tbody tr th:only-of-type {\n",
       "        vertical-align: middle;\n",
       "    }\n",
       "\n",
       "    .dataframe tbody tr th {\n",
       "        vertical-align: top;\n",
       "    }\n",
       "\n",
       "    .dataframe thead th {\n",
       "        text-align: right;\n",
       "    }\n",
       "</style>\n",
       "<table border=\"1\" class=\"dataframe\">\n",
       "  <thead>\n",
       "    <tr style=\"text-align: right;\">\n",
       "      <th></th>\n",
       "      <th>bedrooms</th>\n",
       "      <th>bathrooms</th>\n",
       "      <th>toilets</th>\n",
       "      <th>parking_space</th>\n",
       "      <th>title</th>\n",
       "      <th>town</th>\n",
       "      <th>state</th>\n",
       "      <th>price</th>\n",
       "      <th>Score_price</th>\n",
       "    </tr>\n",
       "  </thead>\n",
       "  <tbody>\n",
       "    <tr>\n",
       "      <th>2</th>\n",
       "      <td>4.0</td>\n",
       "      <td>5.0</td>\n",
       "      <td>5.0</td>\n",
       "      <td>4.0</td>\n",
       "      <td>2</td>\n",
       "      <td>122</td>\n",
       "      <td>17</td>\n",
       "      <td>120000000</td>\n",
       "      <td>3.0</td>\n",
       "    </tr>\n",
       "    <tr>\n",
       "      <th>3</th>\n",
       "      <td>4.0</td>\n",
       "      <td>4.0</td>\n",
       "      <td>5.0</td>\n",
       "      <td>6.0</td>\n",
       "      <td>2</td>\n",
       "      <td>10</td>\n",
       "      <td>17</td>\n",
       "      <td>40000000</td>\n",
       "      <td>3.0</td>\n",
       "    </tr>\n",
       "    <tr>\n",
       "      <th>4</th>\n",
       "      <td>4.0</td>\n",
       "      <td>4.0</td>\n",
       "      <td>5.0</td>\n",
       "      <td>2.0</td>\n",
       "      <td>4</td>\n",
       "      <td>122</td>\n",
       "      <td>17</td>\n",
       "      <td>75000000</td>\n",
       "      <td>3.0</td>\n",
       "    </tr>\n",
       "    <tr>\n",
       "      <th>6</th>\n",
       "      <td>4.0</td>\n",
       "      <td>5.0</td>\n",
       "      <td>5.0</td>\n",
       "      <td>4.0</td>\n",
       "      <td>2</td>\n",
       "      <td>122</td>\n",
       "      <td>17</td>\n",
       "      <td>65000000</td>\n",
       "      <td>3.0</td>\n",
       "    </tr>\n",
       "    <tr>\n",
       "      <th>7</th>\n",
       "      <td>2.0</td>\n",
       "      <td>2.0</td>\n",
       "      <td>3.0</td>\n",
       "      <td>6.0</td>\n",
       "      <td>1</td>\n",
       "      <td>46</td>\n",
       "      <td>17</td>\n",
       "      <td>12000000</td>\n",
       "      <td>3.0</td>\n",
       "    </tr>\n",
       "  </tbody>\n",
       "</table>\n",
       "</div>"
      ],
      "text/plain": [
       "   bedrooms  bathrooms  toilets  parking_space  title  town  state      price  \\\n",
       "2       4.0        5.0      5.0            4.0      2   122     17  120000000   \n",
       "3       4.0        4.0      5.0            6.0      2    10     17   40000000   \n",
       "4       4.0        4.0      5.0            2.0      4   122     17   75000000   \n",
       "6       4.0        5.0      5.0            4.0      2   122     17   65000000   \n",
       "7       2.0        2.0      3.0            6.0      1    46     17   12000000   \n",
       "\n",
       "   Score_price  \n",
       "2          3.0  \n",
       "3          3.0  \n",
       "4          3.0  \n",
       "6          3.0  \n",
       "7          3.0  "
      ]
     },
     "execution_count": 72,
     "metadata": {},
     "output_type": "execute_result"
    }
   ],
   "source": [
    "df.head()"
   ]
  },
  {
   "cell_type": "code",
   "execution_count": 73,
   "id": "a28e7e1c",
   "metadata": {},
   "outputs": [
    {
     "data": {
      "text/plain": [
       "<AxesSubplot:>"
      ]
     },
     "execution_count": 73,
     "metadata": {},
     "output_type": "execute_result"
    },
    {
     "data": {
      "image/png": "[encoded data removed]",
      "text/plain": [
       "<Figure size 1500x1000 with 2 Axes>"
      ]
     },
     "metadata": {},
     "output_type": "display_data"
    }
   ],
   "source": [
    "#we plot out the corrlation\n",
    "\n",
    "plt.figure(figsize=(15,10))\n",
    "sns.heatmap(df.corr(),annot=True,cmap='mako_r')"
   ]
  },
  {
   "cell_type": "code",
   "execution_count": 74,
   "id": "379a5f1d",
   "metadata": {},
   "outputs": [
    {
     "name": "stderr",
     "output_type": "stream",
     "text": [
      "C:\\Users\\HP\\AppData\\Local\\Temp\\ipykernel_17464\\352420180.py:3: FutureWarning: In a future version of pandas all arguments of DataFrame.drop except for the argument 'labels' will be keyword-only.\n",
      "  X=df.drop('price',1)\n"
     ]
    }
   ],
   "source": [
    "#we reassign \n",
    "\n",
    "X=df.drop('price',1)\n",
    "\n",
    "y=df['price']"
   ]
  },
  {
   "cell_type": "code",
   "execution_count": 75,
   "id": "a8973e68",
   "metadata": {},
   "outputs": [],
   "source": [
    "#Retrain\n",
    "\n",
    "X_train, X_other, y_train, y_other = train_test_split(X, y, test_size=0.2, random_state=42)\n",
    "X_eval, X_test, y_eval, y_test = train_test_split(X_other, y_other, test_size=0.5, random_state=42)"
   ]
  },
  {
   "cell_type": "code",
   "execution_count": 119,
   "id": "759e9cc6",
   "metadata": {},
   "outputs": [
    {
     "data": {
      "text/plain": [
       "bedrooms          0\n",
       "bathrooms         0\n",
       "toilets           0\n",
       "parking_space     0\n",
       "title             0\n",
       "town              0\n",
       "state             0\n",
       "Score_price      12\n",
       "dtype: int64"
      ]
     },
     "execution_count": 119,
     "metadata": {},
     "output_type": "execute_result"
    }
   ],
   "source": [
    "#Then i Notice Missing Values\n",
    "\n",
    "X_train.isnull().sum()"
   ]
  },
  {
   "cell_type": "code",
   "execution_count": 120,
   "id": "c9f3d50b",
   "metadata": {},
   "outputs": [
    {
     "data": {
      "text/plain": [
       "16"
      ]
     },
     "execution_count": 120,
     "metadata": {},
     "output_type": "execute_result"
    }
   ],
   "source": [
    "#double checking\n",
    "\n",
    "df['Score_price'].isnull().sum()"
   ]
  },
  {
   "cell_type": "code",
   "execution_count": 122,
   "id": "1d38a51f",
   "metadata": {},
   "outputs": [
    {
     "data": {
      "text/html": [
       "<div>\n",
       "<style scoped>\n",
       "    .dataframe tbody tr th:only-of-type {\n",
       "        vertical-align: middle;\n",
       "    }\n",
       "\n",
       "    .dataframe tbody tr th {\n",
       "        vertical-align: top;\n",
       "    }\n",
       "\n",
       "    .dataframe thead th {\n",
       "        text-align: right;\n",
       "    }\n",
       "</style>\n",
       "<table border=\"1\" class=\"dataframe\">\n",
       "  <thead>\n",
       "    <tr style=\"text-align: right;\">\n",
       "      <th></th>\n",
       "      <th>bedrooms</th>\n",
       "      <th>bathrooms</th>\n",
       "      <th>toilets</th>\n",
       "      <th>parking_space</th>\n",
       "      <th>title</th>\n",
       "      <th>town</th>\n",
       "      <th>state</th>\n",
       "      <th>price</th>\n",
       "      <th>Score_price</th>\n",
       "    </tr>\n",
       "  </thead>\n",
       "  <tbody>\n",
       "    <tr>\n",
       "      <th>2385</th>\n",
       "      <td>5.0</td>\n",
       "      <td>7.0</td>\n",
       "      <td>7.0</td>\n",
       "      <td>4.0</td>\n",
       "      <td>4</td>\n",
       "      <td>130</td>\n",
       "      <td>1</td>\n",
       "      <td>110000</td>\n",
       "      <td>NaN</td>\n",
       "    </tr>\n",
       "    <tr>\n",
       "      <th>2449</th>\n",
       "      <td>2.0</td>\n",
       "      <td>2.0</td>\n",
       "      <td>2.0</td>\n",
       "      <td>1.0</td>\n",
       "      <td>2</td>\n",
       "      <td>20</td>\n",
       "      <td>1</td>\n",
       "      <td>462837</td>\n",
       "      <td>NaN</td>\n",
       "    </tr>\n",
       "    <tr>\n",
       "      <th>2693</th>\n",
       "      <td>2.0</td>\n",
       "      <td>3.0</td>\n",
       "      <td>3.0</td>\n",
       "      <td>4.0</td>\n",
       "      <td>6</td>\n",
       "      <td>66</td>\n",
       "      <td>17</td>\n",
       "      <td>90000</td>\n",
       "      <td>NaN</td>\n",
       "    </tr>\n",
       "    <tr>\n",
       "      <th>2810</th>\n",
       "      <td>7.0</td>\n",
       "      <td>5.0</td>\n",
       "      <td>5.0</td>\n",
       "      <td>4.0</td>\n",
       "      <td>2</td>\n",
       "      <td>91</td>\n",
       "      <td>17</td>\n",
       "      <td>350000</td>\n",
       "      <td>NaN</td>\n",
       "    </tr>\n",
       "    <tr>\n",
       "      <th>4176</th>\n",
       "      <td>2.0</td>\n",
       "      <td>7.0</td>\n",
       "      <td>8.0</td>\n",
       "      <td>7.0</td>\n",
       "      <td>2</td>\n",
       "      <td>97</td>\n",
       "      <td>23</td>\n",
       "      <td>500000</td>\n",
       "      <td>NaN</td>\n",
       "    </tr>\n",
       "    <tr>\n",
       "      <th>4782</th>\n",
       "      <td>5.0</td>\n",
       "      <td>6.0</td>\n",
       "      <td>6.0</td>\n",
       "      <td>2.0</td>\n",
       "      <td>2</td>\n",
       "      <td>10</td>\n",
       "      <td>17</td>\n",
       "      <td>1000000</td>\n",
       "      <td>NaN</td>\n",
       "    </tr>\n",
       "    <tr>\n",
       "      <th>6724</th>\n",
       "      <td>3.0</td>\n",
       "      <td>5.0</td>\n",
       "      <td>5.0</td>\n",
       "      <td>5.0</td>\n",
       "      <td>2</td>\n",
       "      <td>81</td>\n",
       "      <td>17</td>\n",
       "      <td>1000000</td>\n",
       "      <td>NaN</td>\n",
       "    </tr>\n",
       "    <tr>\n",
       "      <th>7083</th>\n",
       "      <td>5.0</td>\n",
       "      <td>5.0</td>\n",
       "      <td>6.0</td>\n",
       "      <td>4.0</td>\n",
       "      <td>2</td>\n",
       "      <td>122</td>\n",
       "      <td>17</td>\n",
       "      <td>400000</td>\n",
       "      <td>NaN</td>\n",
       "    </tr>\n",
       "    <tr>\n",
       "      <th>14211</th>\n",
       "      <td>2.0</td>\n",
       "      <td>2.0</td>\n",
       "      <td>3.0</td>\n",
       "      <td>3.0</td>\n",
       "      <td>0</td>\n",
       "      <td>43</td>\n",
       "      <td>17</td>\n",
       "      <td>800000</td>\n",
       "      <td>NaN</td>\n",
       "    </tr>\n",
       "    <tr>\n",
       "      <th>14555</th>\n",
       "      <td>4.0</td>\n",
       "      <td>4.0</td>\n",
       "      <td>5.0</td>\n",
       "      <td>4.0</td>\n",
       "      <td>4</td>\n",
       "      <td>81</td>\n",
       "      <td>17</td>\n",
       "      <td>660000</td>\n",
       "      <td>NaN</td>\n",
       "    </tr>\n",
       "    <tr>\n",
       "      <th>14630</th>\n",
       "      <td>2.0</td>\n",
       "      <td>2.0</td>\n",
       "      <td>3.0</td>\n",
       "      <td>4.0</td>\n",
       "      <td>0</td>\n",
       "      <td>43</td>\n",
       "      <td>17</td>\n",
       "      <td>710000</td>\n",
       "      <td>NaN</td>\n",
       "    </tr>\n",
       "    <tr>\n",
       "      <th>17645</th>\n",
       "      <td>7.0</td>\n",
       "      <td>7.0</td>\n",
       "      <td>8.0</td>\n",
       "      <td>6.0</td>\n",
       "      <td>2</td>\n",
       "      <td>91</td>\n",
       "      <td>17</td>\n",
       "      <td>350000</td>\n",
       "      <td>NaN</td>\n",
       "    </tr>\n",
       "    <tr>\n",
       "      <th>17940</th>\n",
       "      <td>7.0</td>\n",
       "      <td>5.0</td>\n",
       "      <td>5.0</td>\n",
       "      <td>4.0</td>\n",
       "      <td>2</td>\n",
       "      <td>91</td>\n",
       "      <td>17</td>\n",
       "      <td>350000</td>\n",
       "      <td>NaN</td>\n",
       "    </tr>\n",
       "    <tr>\n",
       "      <th>18088</th>\n",
       "      <td>3.0</td>\n",
       "      <td>3.0</td>\n",
       "      <td>4.0</td>\n",
       "      <td>3.0</td>\n",
       "      <td>0</td>\n",
       "      <td>180</td>\n",
       "      <td>17</td>\n",
       "      <td>710000</td>\n",
       "      <td>NaN</td>\n",
       "    </tr>\n",
       "    <tr>\n",
       "      <th>20146</th>\n",
       "      <td>2.0</td>\n",
       "      <td>2.0</td>\n",
       "      <td>3.0</td>\n",
       "      <td>4.0</td>\n",
       "      <td>1</td>\n",
       "      <td>135</td>\n",
       "      <td>20</td>\n",
       "      <td>100000</td>\n",
       "      <td>NaN</td>\n",
       "    </tr>\n",
       "    <tr>\n",
       "      <th>24274</th>\n",
       "      <td>2.0</td>\n",
       "      <td>5.0</td>\n",
       "      <td>5.0</td>\n",
       "      <td>4.0</td>\n",
       "      <td>3</td>\n",
       "      <td>116</td>\n",
       "      <td>1</td>\n",
       "      <td>700000</td>\n",
       "      <td>NaN</td>\n",
       "    </tr>\n",
       "  </tbody>\n",
       "</table>\n",
       "</div>"
      ],
      "text/plain": [
       "       bedrooms  bathrooms  toilets  parking_space  title  town  state  \\\n",
       "2385        5.0        7.0      7.0            4.0      4   130      1   \n",
       "2449        2.0        2.0      2.0            1.0      2    20      1   \n",
       "2693        2.0        3.0      3.0            4.0      6    66     17   \n",
       "2810        7.0        5.0      5.0            4.0      2    91     17   \n",
       "4176        2.0        7.0      8.0            7.0      2    97     23   \n",
       "4782        5.0        6.0      6.0            2.0      2    10     17   \n",
       "6724        3.0        5.0      5.0            5.0      2    81     17   \n",
       "7083        5.0        5.0      6.0            4.0      2   122     17   \n",
       "14211       2.0        2.0      3.0            3.0      0    43     17   \n",
       "14555       4.0        4.0      5.0            4.0      4    81     17   \n",
       "14630       2.0        2.0      3.0            4.0      0    43     17   \n",
       "17645       7.0        7.0      8.0            6.0      2    91     17   \n",
       "17940       7.0        5.0      5.0            4.0      2    91     17   \n",
       "18088       3.0        3.0      4.0            3.0      0   180     17   \n",
       "20146       2.0        2.0      3.0            4.0      1   135     20   \n",
       "24274       2.0        5.0      5.0            4.0      3   116      1   \n",
       "\n",
       "         price  Score_price  \n",
       "2385    110000          NaN  \n",
       "2449    462837          NaN  \n",
       "2693     90000          NaN  \n",
       "2810    350000          NaN  \n",
       "4176    500000          NaN  \n",
       "4782   1000000          NaN  \n",
       "6724   1000000          NaN  \n",
       "7083    400000          NaN  \n",
       "14211   800000          NaN  \n",
       "14555   660000          NaN  \n",
       "14630   710000          NaN  \n",
       "17645   350000          NaN  \n",
       "17940   350000          NaN  \n",
       "18088   710000          NaN  \n",
       "20146   100000          NaN  \n",
       "24274   700000          NaN  "
      ]
     },
     "execution_count": 122,
     "metadata": {},
     "output_type": "execute_result"
    }
   ],
   "source": [
    "#fiiguring out the particular Place i gat the missin values\n",
    "\n",
    "\n",
    "df[df.isnull().any(axis=1)]"
   ]
  },
  {
   "cell_type": "code",
   "execution_count": 76,
   "id": "e1bf8266",
   "metadata": {},
   "outputs": [],
   "source": [
    "#where we gat missing Value we should used 1 since The price tag of the most missing value is Low\n",
    "\n",
    "df['Score_price']=np.where(df['Score_price'].isna(),1,0)"
   ]
  },
  {
   "cell_type": "code",
   "execution_count": 77,
   "id": "6c23635b",
   "metadata": {},
   "outputs": [
    {
     "data": {
      "text/plain": [
       "0"
      ]
     },
     "execution_count": 77,
     "metadata": {},
     "output_type": "execute_result"
    }
   ],
   "source": [
    "#double checking\n",
    "\n",
    "df['Score_price'].isnull().sum()"
   ]
  },
  {
   "cell_type": "code",
   "execution_count": 78,
   "id": "03e6153f",
   "metadata": {},
   "outputs": [
    {
     "name": "stderr",
     "output_type": "stream",
     "text": [
      "C:\\Users\\HP\\AppData\\Local\\Temp\\ipykernel_17464\\4120058516.py:3: FutureWarning: In a future version of pandas all arguments of DataFrame.drop except for the argument 'labels' will be keyword-only.\n",
      "  X=df.drop('price',1)\n"
     ]
    }
   ],
   "source": [
    "#reassiging\n",
    "\n",
    "X=df.drop('price',1)\n",
    "\n",
    "y=df['price']"
   ]
  },
  {
   "cell_type": "code",
   "execution_count": 79,
   "id": "0bcaff62",
   "metadata": {},
   "outputs": [],
   "source": [
    "#Rettrain\n",
    "\n",
    "X_train, X_other, y_train, y_other = train_test_split(X, y, test_size=0.2, random_state=42)\n",
    "X_eval, X_test, y_eval, y_test = train_test_split(X_other, y_other, test_size=0.5, random_state=42)"
   ]
  },
  {
   "cell_type": "code",
   "execution_count": 80,
   "id": "92117916",
   "metadata": {},
   "outputs": [
    {
     "data": {
      "text/plain": [
       "RandomForestRegressor()"
      ]
     },
     "execution_count": 80,
     "metadata": {},
     "output_type": "execute_result"
    }
   ],
   "source": [
    "#re-model\n",
    "\n",
    "Model01=RandomForestRegressor()\n",
    "Model01.fit(X_train,y_train)"
   ]
  },
  {
   "cell_type": "code",
   "execution_count": 81,
   "id": "661f4cb5",
   "metadata": {},
   "outputs": [],
   "source": [
    "#retest\n",
    "\n",
    "test_predict=Model01.predict(X_eval)"
   ]
  },
  {
   "cell_type": "code",
   "execution_count": 82,
   "id": "5ecb5aa6",
   "metadata": {},
   "outputs": [
    {
     "name": "stdout",
     "output_type": "stream",
     "text": [
      "\u001b[31m Mean Absolute Error 56998661.534361295\n",
      "\u001b[31m Root Squared -0.6490858411176641\n"
     ]
    }
   ],
   "source": [
    "print(Fore.RED,'Mean Absolute Error',mean_absolute_error(y_test,test_predict))\n",
    "print(Fore.RED,'Root Squared',r2_score(y_test,test_predict))"
   ]
  },
  {
   "cell_type": "markdown",
   "id": "403ecb48",
   "metadata": {},
   "source": [
    "*till giving the Same errorate*"
   ]
  },
  {
   "cell_type": "code",
   "execution_count": 85,
   "id": "ae8faa31",
   "metadata": {},
   "outputs": [
    {
     "data": {
      "text/plain": [
       "<AxesSubplot:>"
      ]
     },
     "execution_count": 85,
     "metadata": {},
     "output_type": "execute_result"
    },
    {
     "data": {
      "image/png": "[encoded data removed]",
      "text/plain": [
       "<Figure size 640x480 with 1 Axes>"
      ]
     },
     "metadata": {},
     "output_type": "display_data"
    }
   ],
   "source": [
    "#okay I plott out the features importance\n",
    "\n",
    "\n",
    "sns.barplot(x=X.columns,y=Model01.feature_importances_)"
   ]
  },
  {
   "cell_type": "markdown",
   "id": "8a28d633",
   "metadata": {},
   "source": [
    "*One can easilt tell from the graphic which features is adding more to the model development*"
   ]
  },
  {
   "cell_type": "code",
   "execution_count": 86,
   "id": "5b511602",
   "metadata": {},
   "outputs": [
    {
     "data": {
      "text/html": [
       "<div>\n",
       "<style scoped>\n",
       "    .dataframe tbody tr th:only-of-type {\n",
       "        vertical-align: middle;\n",
       "    }\n",
       "\n",
       "    .dataframe tbody tr th {\n",
       "        vertical-align: top;\n",
       "    }\n",
       "\n",
       "    .dataframe thead th {\n",
       "        text-align: right;\n",
       "    }\n",
       "</style>\n",
       "<table border=\"1\" class=\"dataframe\">\n",
       "  <thead>\n",
       "    <tr style=\"text-align: right;\">\n",
       "      <th></th>\n",
       "      <th>bedrooms</th>\n",
       "      <th>bathrooms</th>\n",
       "      <th>toilets</th>\n",
       "      <th>parking_space</th>\n",
       "      <th>title</th>\n",
       "      <th>town</th>\n",
       "      <th>state</th>\n",
       "      <th>price</th>\n",
       "      <th>Score_price</th>\n",
       "    </tr>\n",
       "  </thead>\n",
       "  <tbody>\n",
       "    <tr>\n",
       "      <th>23403</th>\n",
       "      <td>4.0</td>\n",
       "      <td>5.0</td>\n",
       "      <td>5.0</td>\n",
       "      <td>5.0</td>\n",
       "      <td>2</td>\n",
       "      <td>10</td>\n",
       "      <td>17</td>\n",
       "      <td>65000000</td>\n",
       "      <td>0</td>\n",
       "    </tr>\n",
       "    <tr>\n",
       "      <th>19272</th>\n",
       "      <td>2.0</td>\n",
       "      <td>3.0</td>\n",
       "      <td>3.0</td>\n",
       "      <td>4.0</td>\n",
       "      <td>3</td>\n",
       "      <td>126</td>\n",
       "      <td>1</td>\n",
       "      <td>20000000</td>\n",
       "      <td>0</td>\n",
       "    </tr>\n",
       "  </tbody>\n",
       "</table>\n",
       "</div>"
      ],
      "text/plain": [
       "       bedrooms  bathrooms  toilets  parking_space  title  town  state  \\\n",
       "23403       4.0        5.0      5.0            5.0      2    10     17   \n",
       "19272       2.0        3.0      3.0            4.0      3   126      1   \n",
       "\n",
       "          price  Score_price  \n",
       "23403  65000000            0  \n",
       "19272  20000000            0  "
      ]
     },
     "execution_count": 86,
     "metadata": {},
     "output_type": "execute_result"
    }
   ],
   "source": [
    "df.sample(2)"
   ]
  },
  {
   "cell_type": "code",
   "execution_count": 88,
   "id": "903d107b",
   "metadata": {},
   "outputs": [],
   "source": [
    "#We select the model accoring to their contirbution of the development of the model accuarcy\n",
    "\n",
    "data=df.loc[:,['bedrooms','parking_space','title','town','price']]\n"
   ]
  },
  {
   "cell_type": "code",
   "execution_count": 89,
   "id": "02c933aa",
   "metadata": {},
   "outputs": [
    {
     "data": {
      "text/html": [
       "<div>\n",
       "<style scoped>\n",
       "    .dataframe tbody tr th:only-of-type {\n",
       "        vertical-align: middle;\n",
       "    }\n",
       "\n",
       "    .dataframe tbody tr th {\n",
       "        vertical-align: top;\n",
       "    }\n",
       "\n",
       "    .dataframe thead th {\n",
       "        text-align: right;\n",
       "    }\n",
       "</style>\n",
       "<table border=\"1\" class=\"dataframe\">\n",
       "  <thead>\n",
       "    <tr style=\"text-align: right;\">\n",
       "      <th></th>\n",
       "      <th>bedrooms</th>\n",
       "      <th>parking_space</th>\n",
       "      <th>title</th>\n",
       "      <th>town</th>\n",
       "      <th>price</th>\n",
       "    </tr>\n",
       "  </thead>\n",
       "  <tbody>\n",
       "    <tr>\n",
       "      <th>2</th>\n",
       "      <td>4.0</td>\n",
       "      <td>4.0</td>\n",
       "      <td>2</td>\n",
       "      <td>122</td>\n",
       "      <td>120000000</td>\n",
       "    </tr>\n",
       "    <tr>\n",
       "      <th>3</th>\n",
       "      <td>4.0</td>\n",
       "      <td>6.0</td>\n",
       "      <td>2</td>\n",
       "      <td>10</td>\n",
       "      <td>40000000</td>\n",
       "    </tr>\n",
       "    <tr>\n",
       "      <th>4</th>\n",
       "      <td>4.0</td>\n",
       "      <td>2.0</td>\n",
       "      <td>4</td>\n",
       "      <td>122</td>\n",
       "      <td>75000000</td>\n",
       "    </tr>\n",
       "    <tr>\n",
       "      <th>6</th>\n",
       "      <td>4.0</td>\n",
       "      <td>4.0</td>\n",
       "      <td>2</td>\n",
       "      <td>122</td>\n",
       "      <td>65000000</td>\n",
       "    </tr>\n",
       "    <tr>\n",
       "      <th>7</th>\n",
       "      <td>2.0</td>\n",
       "      <td>6.0</td>\n",
       "      <td>1</td>\n",
       "      <td>46</td>\n",
       "      <td>12000000</td>\n",
       "    </tr>\n",
       "  </tbody>\n",
       "</table>\n",
       "</div>"
      ],
      "text/plain": [
       "   bedrooms  parking_space  title  town      price\n",
       "2       4.0            4.0      2   122  120000000\n",
       "3       4.0            6.0      2    10   40000000\n",
       "4       4.0            2.0      4   122   75000000\n",
       "6       4.0            4.0      2   122   65000000\n",
       "7       2.0            6.0      1    46   12000000"
      ]
     },
     "execution_count": 89,
     "metadata": {},
     "output_type": "execute_result"
    }
   ],
   "source": [
    "\n",
    "\n",
    "data.head()"
   ]
  },
  {
   "cell_type": "code",
   "execution_count": 90,
   "id": "b87b7604",
   "metadata": {},
   "outputs": [
    {
     "data": {
      "text/plain": [
       "<AxesSubplot:>"
      ]
     },
     "execution_count": 90,
     "metadata": {},
     "output_type": "execute_result"
    },
    {
     "data": {
      "image/png": "[encoded data removed]",
      "text/plain": [
       "<Figure size 640x480 with 2 Axes>"
      ]
     },
     "metadata": {},
     "output_type": "display_data"
    }
   ],
   "source": [
    "#did some features engineeer\n",
    "\n",
    "sns.heatmap(data.corr(),annot=True,cmap='mako_r')"
   ]
  },
  {
   "cell_type": "code",
   "execution_count": 91,
   "id": "b847bd1e",
   "metadata": {},
   "outputs": [
    {
     "data": {
      "text/plain": [
       "<AxesSubplot:>"
      ]
     },
     "execution_count": 91,
     "metadata": {},
     "output_type": "execute_result"
    },
    {
     "data": {
      "image/png": "[encoded data removed]",
      "text/plain": [
       "<Figure size 640x480 with 1 Axes>"
      ]
     },
     "metadata": {},
     "output_type": "display_data"
    }
   ],
   "source": [
    "#checking the Excessive Values\n",
    "\n",
    "data['price'].plot.box(vert=False)"
   ]
  },
  {
   "cell_type": "markdown",
   "id": "179583d7",
   "metadata": {},
   "source": [
    "*Okay This is cool*"
   ]
  },
  {
   "cell_type": "code",
   "execution_count": 92,
   "id": "d00e27e2",
   "metadata": {},
   "outputs": [],
   "source": [
    "#We assign again\n",
    "\n",
    "X=data.drop('price',axis=1)\n",
    "\n",
    "y=data['price']"
   ]
  },
  {
   "cell_type": "code",
   "execution_count": 93,
   "id": "52d11f22",
   "metadata": {},
   "outputs": [],
   "source": [
    "#we Retrain\n",
    "\n",
    "X_train, X_other, y_train, y_other = train_test_split(X, y, test_size=0.1, random_state=100)\n",
    "X_eval, X_test, y_eval, y_test = train_test_split(X_other, y_other, test_size=0.5, random_state=100)"
   ]
  },
  {
   "cell_type": "code",
   "execution_count": 94,
   "id": "2ef071cc",
   "metadata": {},
   "outputs": [],
   "source": [
    "ModeL=RandomForestRegressor(max_depth=100000)"
   ]
  },
  {
   "cell_type": "code",
   "execution_count": 95,
   "id": "ac93332d",
   "metadata": {},
   "outputs": [
    {
     "data": {
      "text/plain": [
       "RandomForestRegressor(max_depth=100000)"
      ]
     },
     "execution_count": 95,
     "metadata": {},
     "output_type": "execute_result"
    }
   ],
   "source": [
    "ModeL.fit(X_train,y_train)"
   ]
  },
  {
   "cell_type": "code",
   "execution_count": 96,
   "id": "2cc48616",
   "metadata": {},
   "outputs": [
    {
     "name": "stdout",
     "output_type": "stream",
     "text": [
      "\u001b[31m Mean Absolute Error 25528979.571642745\n",
      "\u001b[31m Root Squared 0.5525658349501292\n"
     ]
    }
   ],
   "source": [
    "testing=ModeL.predict(X_test)\n",
    "print(Fore.RED,'Mean Absolute Error',mean_absolute_error(y_test,testing))\n",
    "print(Fore.RED,'Root Squared',r2_score(y_test,testing))"
   ]
  },
  {
   "cell_type": "markdown",
   "id": "1a5f1a6a",
   "metadata": {},
   "source": [
    "*Model accuracy as Been very Poor*"
   ]
  },
  {
   "cell_type": "code",
   "execution_count": 98,
   "id": "46bfab99",
   "metadata": {},
   "outputs": [],
   "source": [
    "#Let Used STandard Scaler\n",
    "\n",
    "scala=StandardScaler()\n",
    "scala.fit(X)\n",
    "X=scala.transform(X)"
   ]
  },
  {
   "cell_type": "code",
   "execution_count": 99,
   "id": "0f8933ff",
   "metadata": {},
   "outputs": [],
   "source": [
    "#Remodel\n",
    "\n",
    "modell=RandomForestRegressor(max_depth=1000000)"
   ]
  },
  {
   "cell_type": "code",
   "execution_count": 100,
   "id": "5636686b",
   "metadata": {},
   "outputs": [],
   "source": [
    "#retrain\n",
    "\n",
    "X_train, X_other, y_train, y_other = train_test_split(X, y, test_size=0.2, random_state=100)\n",
    "X_eval, X_test, y_eval, y_test = train_test_split(X_other, y_other, test_size=0.5, random_state=100)"
   ]
  },
  {
   "cell_type": "code",
   "execution_count": 101,
   "id": "c67adeea",
   "metadata": {},
   "outputs": [
    {
     "data": {
      "text/plain": [
       "RandomForestRegressor(max_depth=1000000)"
      ]
     },
     "execution_count": 101,
     "metadata": {},
     "output_type": "execute_result"
    }
   ],
   "source": [
    "#refit\n",
    "\n",
    "modell.fit(X_train,y_train)"
   ]
  },
  {
   "cell_type": "code",
   "execution_count": 102,
   "id": "dacf0763",
   "metadata": {},
   "outputs": [],
   "source": [
    "test=modell.predict(X_test)"
   ]
  },
  {
   "cell_type": "code",
   "execution_count": 103,
   "id": "dc0bce4b",
   "metadata": {},
   "outputs": [
    {
     "name": "stdout",
     "output_type": "stream",
     "text": [
      "\u001b[31m Mean Absolute Error 26234974.596866205\n",
      "\u001b[31m Root Squared 0.5395279929107077\n"
     ]
    }
   ],
   "source": [
    "print(Fore.RED,'Mean Absolute Error',mean_absolute_error(y_test,test))\n",
    "print(Fore.RED,'Root Squared',r2_score(y_test,test))"
   ]
  },
  {
   "cell_type": "markdown",
   "id": "9b18deb0",
   "metadata": {},
   "source": [
    "*this is far from better*"
   ]
  },
  {
   "cell_type": "code",
   "execution_count": 104,
   "id": "fb069d69",
   "metadata": {},
   "outputs": [
    {
     "data": {
      "text/plain": [
       "XGBRegressor(base_score=None, booster=None, callbacks=None,\n",
       "             colsample_bylevel=None, colsample_bynode=None,\n",
       "             colsample_bytree=None, early_stopping_rounds=None,\n",
       "             enable_categorical=False, eval_metric=None, feature_types=None,\n",
       "             gamma=None, gpu_id=None, grow_policy=None, importance_type=None,\n",
       "             interaction_constraints=None, learning_rate=None, max_bin=None,\n",
       "             max_cat_threshold=None, max_cat_to_onehot=None,\n",
       "             max_delta_step=None, max_depth=None, max_leaves=None,\n",
       "             min_child_weight=None, missing=nan, monotone_constraints=None,\n",
       "             n_estimators=100, n_jobs=None, num_parallel_tree=None,\n",
       "             predictor=None, random_state=None, ...)"
      ]
     },
     "execution_count": 104,
     "metadata": {},
     "output_type": "execute_result"
    }
   ],
   "source": [
    "#Then I used XBgRegressor Model\n",
    "\n",
    "from xgboost import XGBRFRegressor,XGBRegressor\n",
    "\n",
    "Mdl=XGBRegressor()\n",
    "Mdl.fit(X_train,y_train)"
   ]
  },
  {
   "cell_type": "code",
   "execution_count": 105,
   "id": "53611833",
   "metadata": {},
   "outputs": [
    {
     "name": "stdout",
     "output_type": "stream",
     "text": [
      "\u001b[31m Mean Absolute Error 25533720.440046072\n",
      "\u001b[31m Root Squared 0.5650340767920756\n"
     ]
    }
   ],
   "source": [
    "testting=Mdl.predict(X_test)\n",
    "print(Fore.RED,'Mean Absolute Error',mean_absolute_error(y_test,testting))\n",
    "print(Fore.RED,'Root Squared',r2_score(y_test,testting))"
   ]
  },
  {
   "cell_type": "markdown",
   "id": "7796afae",
   "metadata": {},
   "source": [
    "*No different*"
   ]
  },
  {
   "cell_type": "code",
   "execution_count": 106,
   "id": "da735cad",
   "metadata": {},
   "outputs": [
    {
     "name": "stdout",
     "output_type": "stream",
     "text": [
      "\u001b[31m Training Score 0.6403400625639102\n",
      "\u001b[31m Testing Score 0.5650340767920756\n",
      "\u001b[31m Validation Score 0.5785114084110621\n"
     ]
    }
   ],
   "source": [
    "#Let check the Training,validation Score and TestScore\n",
    "\n",
    "print(Fore.RED,'Training Score',Mdl.score(X_train,y_train))\n",
    "print(Fore.RED,'Testing Score',Mdl.score(X_test,y_test))\n",
    "print(Fore.RED,'Validation Score',Mdl.score(X_eval,y_eval))"
   ]
  },
  {
   "cell_type": "markdown",
   "id": "7f9942b7",
   "metadata": {},
   "source": [
    "* it save to save the model is underfitting Beacuse the train score and test score is far from good Scores* "
   ]
  },
  {
   "cell_type": "code",
   "execution_count": 107,
   "id": "64ba945c",
   "metadata": {},
   "outputs": [],
   "source": [
    "#importing the Transformer to help with The Transformation of the Price.\n",
    "\n",
    "from sklearn.preprocessing import PowerTransformer,QuantileTransformer"
   ]
  },
  {
   "cell_type": "code",
   "execution_count": 108,
   "id": "41d60c8c",
   "metadata": {},
   "outputs": [],
   "source": [
    "#we Instanctiiate\n",
    "\n",
    "Power=PowerTransformer()\n",
    "\n",
    "data['Power_Price']=Power.fit_transform(data['price'].values.reshape(-1,1))"
   ]
  },
  {
   "cell_type": "code",
   "execution_count": 109,
   "id": "80a82319",
   "metadata": {},
   "outputs": [
    {
     "data": {
      "text/html": [
       "<div>\n",
       "<style scoped>\n",
       "    .dataframe tbody tr th:only-of-type {\n",
       "        vertical-align: middle;\n",
       "    }\n",
       "\n",
       "    .dataframe tbody tr th {\n",
       "        vertical-align: top;\n",
       "    }\n",
       "\n",
       "    .dataframe thead th {\n",
       "        text-align: right;\n",
       "    }\n",
       "</style>\n",
       "<table border=\"1\" class=\"dataframe\">\n",
       "  <thead>\n",
       "    <tr style=\"text-align: right;\">\n",
       "      <th></th>\n",
       "      <th>bedrooms</th>\n",
       "      <th>parking_space</th>\n",
       "      <th>title</th>\n",
       "      <th>town</th>\n",
       "      <th>price</th>\n",
       "      <th>Power_Price</th>\n",
       "    </tr>\n",
       "  </thead>\n",
       "  <tbody>\n",
       "    <tr>\n",
       "      <th>2</th>\n",
       "      <td>4.0</td>\n",
       "      <td>4.0</td>\n",
       "      <td>2</td>\n",
       "      <td>122</td>\n",
       "      <td>120000000</td>\n",
       "      <td>0.693274</td>\n",
       "    </tr>\n",
       "    <tr>\n",
       "      <th>3</th>\n",
       "      <td>4.0</td>\n",
       "      <td>6.0</td>\n",
       "      <td>2</td>\n",
       "      <td>10</td>\n",
       "      <td>40000000</td>\n",
       "      <td>-0.822268</td>\n",
       "    </tr>\n",
       "    <tr>\n",
       "      <th>4</th>\n",
       "      <td>4.0</td>\n",
       "      <td>2.0</td>\n",
       "      <td>4</td>\n",
       "      <td>122</td>\n",
       "      <td>75000000</td>\n",
       "      <td>-0.037533</td>\n",
       "    </tr>\n",
       "    <tr>\n",
       "      <th>6</th>\n",
       "      <td>4.0</td>\n",
       "      <td>4.0</td>\n",
       "      <td>2</td>\n",
       "      <td>122</td>\n",
       "      <td>65000000</td>\n",
       "      <td>-0.233985</td>\n",
       "    </tr>\n",
       "    <tr>\n",
       "      <th>7</th>\n",
       "      <td>2.0</td>\n",
       "      <td>6.0</td>\n",
       "      <td>1</td>\n",
       "      <td>46</td>\n",
       "      <td>12000000</td>\n",
       "      <td>-1.869678</td>\n",
       "    </tr>\n",
       "  </tbody>\n",
       "</table>\n",
       "</div>"
      ],
      "text/plain": [
       "   bedrooms  parking_space  title  town      price  Power_Price\n",
       "2       4.0            4.0      2   122  120000000     0.693274\n",
       "3       4.0            6.0      2    10   40000000    -0.822268\n",
       "4       4.0            2.0      4   122   75000000    -0.037533\n",
       "6       4.0            4.0      2   122   65000000    -0.233985\n",
       "7       2.0            6.0      1    46   12000000    -1.869678"
      ]
     },
     "execution_count": 109,
     "metadata": {},
     "output_type": "execute_result"
    }
   ],
   "source": [
    "data.head()"
   ]
  },
  {
   "cell_type": "code",
   "execution_count": 118,
   "id": "e977c766",
   "metadata": {},
   "outputs": [
    {
     "data": {
      "image/png": "[encoded data removed]",
      "text/plain": [
       "<Figure size 640x480 with 1 Axes>"
      ]
     },
     "metadata": {},
     "output_type": "display_data"
    },
    {
     "data": {
      "image/png": "[encoded data removed]",
      "text/plain": [
       "<Figure size 1000x700 with 1 Axes>"
      ]
     },
     "metadata": {},
     "output_type": "display_data"
    },
    {
     "data": {
      "text/plain": [
       "<Figure size 1000x700 with 0 Axes>"
      ]
     },
     "metadata": {},
     "output_type": "display_data"
    }
   ],
   "source": [
    "#plotting them out \n",
    "\n",
    "laabels=['price','Power_Price']\n",
    "for i in laabels:\n",
    "    plt.subplot(1,1,1)\n",
    "    data[i].plot.box(vert=False)\n",
    "    plt.subplot(2,1,2)\n",
    "    data[i].plot.box(vert=False)\n",
    "    plt.tight_layout(pad=2)\n",
    "    plt.figure(figsize=(10,7))"
   ]
  },
  {
   "cell_type": "code",
   "execution_count": 119,
   "id": "67b4ddc4",
   "metadata": {},
   "outputs": [],
   "source": [
    "quater=QuantileTransformer()\n",
    "data['Qprice']=quater.fit_transform(data['price'].values.reshape(-1,1))"
   ]
  },
  {
   "cell_type": "code",
   "execution_count": 120,
   "id": "e2c472d7",
   "metadata": {},
   "outputs": [
    {
     "data": {
      "text/html": [
       "<div>\n",
       "<style scoped>\n",
       "    .dataframe tbody tr th:only-of-type {\n",
       "        vertical-align: middle;\n",
       "    }\n",
       "\n",
       "    .dataframe tbody tr th {\n",
       "        vertical-align: top;\n",
       "    }\n",
       "\n",
       "    .dataframe thead th {\n",
       "        text-align: right;\n",
       "    }\n",
       "</style>\n",
       "<table border=\"1\" class=\"dataframe\">\n",
       "  <thead>\n",
       "    <tr style=\"text-align: right;\">\n",
       "      <th></th>\n",
       "      <th>bedrooms</th>\n",
       "      <th>parking_space</th>\n",
       "      <th>title</th>\n",
       "      <th>town</th>\n",
       "      <th>price</th>\n",
       "      <th>Power_Price</th>\n",
       "      <th>Qprice</th>\n",
       "    </tr>\n",
       "  </thead>\n",
       "  <tbody>\n",
       "    <tr>\n",
       "      <th>2</th>\n",
       "      <td>4.0</td>\n",
       "      <td>4.0</td>\n",
       "      <td>2</td>\n",
       "      <td>122</td>\n",
       "      <td>120000000</td>\n",
       "      <td>0.693274</td>\n",
       "      <td>0.724725</td>\n",
       "    </tr>\n",
       "    <tr>\n",
       "      <th>3</th>\n",
       "      <td>4.0</td>\n",
       "      <td>6.0</td>\n",
       "      <td>2</td>\n",
       "      <td>10</td>\n",
       "      <td>40000000</td>\n",
       "      <td>-0.822268</td>\n",
       "      <td>0.208709</td>\n",
       "    </tr>\n",
       "    <tr>\n",
       "      <th>4</th>\n",
       "      <td>4.0</td>\n",
       "      <td>2.0</td>\n",
       "      <td>4</td>\n",
       "      <td>122</td>\n",
       "      <td>75000000</td>\n",
       "      <td>-0.037533</td>\n",
       "      <td>0.497998</td>\n",
       "    </tr>\n",
       "    <tr>\n",
       "      <th>6</th>\n",
       "      <td>4.0</td>\n",
       "      <td>4.0</td>\n",
       "      <td>2</td>\n",
       "      <td>122</td>\n",
       "      <td>65000000</td>\n",
       "      <td>-0.233985</td>\n",
       "      <td>0.403403</td>\n",
       "    </tr>\n",
       "    <tr>\n",
       "      <th>7</th>\n",
       "      <td>2.0</td>\n",
       "      <td>6.0</td>\n",
       "      <td>1</td>\n",
       "      <td>46</td>\n",
       "      <td>12000000</td>\n",
       "      <td>-1.869678</td>\n",
       "      <td>0.034034</td>\n",
       "    </tr>\n",
       "    <tr>\n",
       "      <th>...</th>\n",
       "      <td>...</td>\n",
       "      <td>...</td>\n",
       "      <td>...</td>\n",
       "      <td>...</td>\n",
       "      <td>...</td>\n",
       "      <td>...</td>\n",
       "      <td>...</td>\n",
       "    </tr>\n",
       "    <tr>\n",
       "      <th>24321</th>\n",
       "      <td>2.0</td>\n",
       "      <td>4.0</td>\n",
       "      <td>0</td>\n",
       "      <td>99</td>\n",
       "      <td>15000000</td>\n",
       "      <td>-1.711767</td>\n",
       "      <td>0.050050</td>\n",
       "    </tr>\n",
       "    <tr>\n",
       "      <th>24322</th>\n",
       "      <td>4.0</td>\n",
       "      <td>4.0</td>\n",
       "      <td>0</td>\n",
       "      <td>5</td>\n",
       "      <td>25000000</td>\n",
       "      <td>-1.292235</td>\n",
       "      <td>0.103103</td>\n",
       "    </tr>\n",
       "    <tr>\n",
       "      <th>24323</th>\n",
       "      <td>4.0</td>\n",
       "      <td>4.0</td>\n",
       "      <td>2</td>\n",
       "      <td>122</td>\n",
       "      <td>68000000</td>\n",
       "      <td>-0.173258</td>\n",
       "      <td>0.431932</td>\n",
       "    </tr>\n",
       "    <tr>\n",
       "      <th>24324</th>\n",
       "      <td>3.0</td>\n",
       "      <td>3.0</td>\n",
       "      <td>0</td>\n",
       "      <td>180</td>\n",
       "      <td>78000000</td>\n",
       "      <td>0.018312</td>\n",
       "      <td>0.526026</td>\n",
       "    </tr>\n",
       "    <tr>\n",
       "      <th>24325</th>\n",
       "      <td>4.0</td>\n",
       "      <td>4.0</td>\n",
       "      <td>2</td>\n",
       "      <td>122</td>\n",
       "      <td>65000000</td>\n",
       "      <td>-0.233985</td>\n",
       "      <td>0.403403</td>\n",
       "    </tr>\n",
       "  </tbody>\n",
       "</table>\n",
       "<p>20618 rows × 7 columns</p>\n",
       "</div>"
      ],
      "text/plain": [
       "       bedrooms  parking_space  title  town      price  Power_Price    Qprice\n",
       "2           4.0            4.0      2   122  120000000     0.693274  0.724725\n",
       "3           4.0            6.0      2    10   40000000    -0.822268  0.208709\n",
       "4           4.0            2.0      4   122   75000000    -0.037533  0.497998\n",
       "6           4.0            4.0      2   122   65000000    -0.233985  0.403403\n",
       "7           2.0            6.0      1    46   12000000    -1.869678  0.034034\n",
       "...         ...            ...    ...   ...        ...          ...       ...\n",
       "24321       2.0            4.0      0    99   15000000    -1.711767  0.050050\n",
       "24322       4.0            4.0      0     5   25000000    -1.292235  0.103103\n",
       "24323       4.0            4.0      2   122   68000000    -0.173258  0.431932\n",
       "24324       3.0            3.0      0   180   78000000     0.018312  0.526026\n",
       "24325       4.0            4.0      2   122   65000000    -0.233985  0.403403\n",
       "\n",
       "[20618 rows x 7 columns]"
      ]
     },
     "execution_count": 120,
     "metadata": {},
     "output_type": "execute_result"
    }
   ],
   "source": [
    "data"
   ]
  },
  {
   "cell_type": "code",
   "execution_count": 123,
   "id": "c34ad364",
   "metadata": {},
   "outputs": [
    {
     "data": {
      "text/plain": [
       "<AxesSubplot:>"
      ]
     },
     "execution_count": 123,
     "metadata": {},
     "output_type": "execute_result"
    },
    {
     "data": {
      "image/png": "[encoded data removed]",
      "text/plain": [
       "<Figure size 640x480 with 2 Axes>"
      ]
     },
     "metadata": {},
     "output_type": "display_data"
    }
   ],
   "source": [
    "sns.heatmap(data.corr(),annot=True,cmap='mako_r')"
   ]
  },
  {
   "cell_type": "markdown",
   "id": "a89ca94f",
   "metadata": {},
   "source": [
    "*Am very Much aware o the multicollinearity but till, at the junction is Here to save us, but it shouldn't be tuu much*\n",
    "\n",
    "*am drop One of them, which is Power_price columns*"
   ]
  },
  {
   "cell_type": "code",
   "execution_count": 124,
   "id": "75cce1bf",
   "metadata": {},
   "outputs": [],
   "source": [
    "#reassigning \n",
    "\n",
    "X=data.drop(['Power_Price','price'],axis=1)\n",
    "\n",
    "y=data['price']"
   ]
  },
  {
   "cell_type": "code",
   "execution_count": 125,
   "id": "cd6dd09c",
   "metadata": {},
   "outputs": [],
   "source": [
    "#retrain\n",
    "\n",
    "X_train, X_other, y_train, y_other = train_test_split(X, y, test_size=0.2, random_state=42)\n",
    "X_eval, X_test, y_eval, y_test = train_test_split(X_other, y_other, test_size=0.5, random_state=42)"
   ]
  },
  {
   "cell_type": "code",
   "execution_count": 126,
   "id": "acb6e169",
   "metadata": {},
   "outputs": [
    {
     "data": {
      "text/plain": [
       "RandomForestRegressor()"
      ]
     },
     "execution_count": 126,
     "metadata": {},
     "output_type": "execute_result"
    }
   ],
   "source": [
    "#and aalso we will be refitting \n",
    "\n",
    "reg_model=RandomForestRegressor()\n",
    "reg_model.fit(X_train,y_train)"
   ]
  },
  {
   "cell_type": "code",
   "execution_count": 127,
   "id": "90c0adee",
   "metadata": {},
   "outputs": [
    {
     "name": "stdout",
     "output_type": "stream",
     "text": [
      "\u001b[31m Mean Absolute Error 5085.38267683666\n",
      "\u001b[31m Root Squared 0.9999988989790716\n"
     ]
    }
   ],
   "source": [
    "#\n",
    "\n",
    "reg_pred=reg_model.predict(X_test)\n",
    "print(Fore.RED,'Mean Absolute Error',mean_absolute_error(y_test,reg_pred))\n",
    "print(Fore.RED,'Root Squared',r2_score(y_test,reg_pred))"
   ]
  },
  {
   "cell_type": "markdown",
   "id": "218e1f09",
   "metadata": {},
   "source": [
    "\n",
    "# YES\n",
    "\n",
    "my Justification for saying Yes is my mean_absolute_error reduced to the 5185. not really a Large number to what we have been getting earlier, much more better."
   ]
  },
  {
   "cell_type": "code",
   "execution_count": 132,
   "id": "0c9cd479",
   "metadata": {},
   "outputs": [
    {
     "data": {
      "text/plain": [
       "array([69999999.99408683, 45000000.        , 55000000.        , ...,\n",
       "       53000000.        , 75000000.        , 85000000.        ])"
      ]
     },
     "execution_count": 132,
     "metadata": {},
     "output_type": "execute_result"
    }
   ],
   "source": [
    "reg_pred"
   ]
  },
  {
   "cell_type": "code",
   "execution_count": 133,
   "id": "195a643d",
   "metadata": {},
   "outputs": [
    {
     "data": {
      "text/plain": [
       "10612     70000000\n",
       "18130     45000000\n",
       "2538      55000000\n",
       "5073      25000000\n",
       "9800      16250000\n",
       "           ...    \n",
       "1839     150000000\n",
       "23790    180000000\n",
       "10874     53000000\n",
       "4411      75000000\n",
       "162       85000000\n",
       "Name: price, Length: 2062, dtype: int32"
      ]
     },
     "execution_count": 133,
     "metadata": {},
     "output_type": "execute_result"
    }
   ],
   "source": [
    "y_test"
   ]
  },
  {
   "cell_type": "code",
   "execution_count": null,
   "id": "1c254e92",
   "metadata": {},
   "outputs": [],
   "source": []
  }
 ],
 "metadata": {
  "kernelspec": {
   "display_name": "Python 3 (ipykernel)",
   "language": "python",
   "name": "python3"
  },
  "language_info": {
   "codemirror_mode": {
    "name": "ipython",
    "version": 3
   },
   "file_extension": ".py",
   "mimetype": "text/x-python",
   "name": "python",
   "nbconvert_exporter": "python",
   "pygments_lexer": "ipython3",
   "version": "3.9.13"
  }
 },
 "nbformat": 4,
 "nbformat_minor": 5
}
